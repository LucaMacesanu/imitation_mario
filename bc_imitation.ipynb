{
 "cells": [
  {
   "cell_type": "code",
   "execution_count": 26,
   "id": "e9352c72-5c2d-4b29-ad69-fefdc36d194d",
   "metadata": {},
   "outputs": [],
   "source": [
    "import numpy as np\n",
    "import os\n",
    "import gym\n",
    "import zipfile\n",
    "from stable_baselines3 import PPO\n",
    "from stable_baselines3.common.vec_env import DummyVecEnv, VecFrameStack\n",
    "from stable_baselines3.common.evaluation import evaluate_policy\n",
    "from imitation.algorithms import bc\n",
    "from nes_py.wrappers import JoypadSpace\n",
    "from gym_super_mario_bros.actions import SIMPLE_MOVEMENT\n",
    "\n",
    "rng = np.random.default_rng(0)"
   ]
  },
  {
   "cell_type": "code",
   "execution_count": 31,
   "id": "993d77d7-dad0-4c63-8b47-968318c9d455",
   "metadata": {},
   "outputs": [],
   "source": [
    "def load_data(directory):\n",
    "    states, actions = [], []\n",
    "    for filename in os.listdir(directory):\n",
    "        print(filename)\n",
    "        if filename.endswith('.npz'):\n",
    "            filepath = os.path.join(directory, filename)\n",
    "            try:\n",
    "                data = np.load(filepath, allow_pickle=True)  # ensure allow_pickle is set appropriately\n",
    "                states.append(data['arr_0'])  # ensure key matches what's in your files\n",
    "                actions.append(data['arr_1'])  # ensure key matches what's in your files\n",
    "            except EOFError:\n",
    "                print(f\"Failed to load data from {filepath}, the file may be corrupted.\")\n",
    "            except KeyError as e:\n",
    "                print(f\"Key error {e} in file {filepath}, check the array keys.\")\n",
    "    return np.concatenate(states), np.concatenate(actions)"
   ]
  },
  {
   "cell_type": "code",
   "execution_count": 16,
   "id": "12f027b3-eab1-4b5c-a3cb-f3c47ddbc7dc",
   "metadata": {},
   "outputs": [],
   "source": [
    "#sb3 only wants to work with gymnasium and not gym, install shimmy\n",
    "#pip install shimmy>=0.2.1\n",
    "env = gym.make('SuperMarioBros-v3')\n",
    "env = DummyVecEnv([lambda:env])"
   ]
  },
  {
   "cell_type": "code",
   "execution_count": 33,
   "id": "a3bebb24-3918-4b7c-ace8-90ac84ef8fb1",
   "metadata": {},
   "outputs": [
    {
     "name": "stdout",
     "output_type": "stream",
     "text": [
      "imitation_mario_rec_Carson_032624_140806.npz\n",
      "imitation_mario_rec_Carson_032624_141113.npz\n",
      "imitation_mario_rec_carson_032824_184208.npz\n",
      "Failed to load data from ./recordings_1/imitation_mario_rec_carson_032824_184208.npz, the file may be corrupted.\n",
      "imitation_mario_rec_carson_032824_184707.npz\n",
      "Failed to load data from ./recordings_1/imitation_mario_rec_carson_032824_184707.npz, the file may be corrupted.\n",
      "imitation_mario_rec_carson_032124_145619.npz\n",
      "imitation_mario_rec_Carson_032624_140935.npz\n",
      "imitation_mario_rec_carson_032824_190019.npz\n",
      "imitation_mario_rec_carson_032124_145652.npz\n",
      "imitation_mario_rec_carson_032124_143622.npz\n",
      "imitation_mario_rec_carson_032124_225559.npz\n",
      "imitation_mario_rec_carson_032124_143819.npz\n",
      "imitation_mario_rec_carson_032124_144528.npz\n",
      "imitation_mario_rec_Carson_032624_140635.npz\n",
      "imitation_mario_rec_Carson_032624_141236.npz\n",
      "imitation_mario_rec_Carson_032124_230019.npz\n",
      "imitation_mario_rec_Carson_032624_141422.npz\n",
      "imitation_mario_rec_carson_032824_185710.npz\n",
      "imitation_mario_rec_carson_032824_183917.npz\n",
      "Failed to load data from ./recordings_1/imitation_mario_rec_carson_032824_183917.npz, the file may be corrupted.\n",
      "imitation_mario_rec_carson_032824_190137.npz\n",
      "imitation_mario_rec_carson_032824_183524.npz\n",
      "Failed to load data from ./recordings_1/imitation_mario_rec_carson_032824_183524.npz, the file may be corrupted.\n",
      "imitation_mario_rec_carson_032124_143046.npz\n",
      "imitation_mario_rec_carson_032124_145055.npz\n",
      "imitation_mario_rec_carson_032824_185449.npz\n",
      "imitation_mario_rec_carson_032124_142721.npz\n",
      "imitation_mario_rec_carson_032824_184345.npz\n",
      "Failed to load data from ./recordings_1/imitation_mario_rec_carson_032824_184345.npz, the file may be corrupted.\n",
      "imitation_mario_rec_carson_032724_223531.npz\n",
      "imitation_mario_rec_carson_032824_184858.npz\n",
      "Failed to load data from ./recordings_1/imitation_mario_rec_carson_032824_184858.npz, the file may be corrupted.\n",
      "imitation_mario_rec_carson_032824_185853.npz\n",
      "imitation_mario_rec_carson_032124_145406.npz\n",
      "imitation_mario_rec_carson_032824_184044.npz\n",
      "Failed to load data from ./recordings_1/imitation_mario_rec_carson_032824_184044.npz, the file may be corrupted.\n",
      "imitation_mario_rec_carson_032124_225902.npz\n",
      "imitation_mario_rec_carson_032824_183724.npz\n",
      "Failed to load data from ./recordings_1/imitation_mario_rec_carson_032824_183724.npz, the file may be corrupted.\n"
     ]
    }
   ],
   "source": [
    "directory = './recordings_1'\n",
    "states, actions = load_data(directory)\n",
    "transitions = {'obs': states, 'acts': actions, 'infos': []}"
   ]
  },
  {
   "cell_type": "code",
   "execution_count": 36,
   "id": "96dca262-1224-42a4-ab6b-db9d9a3f23af",
   "metadata": {},
   "outputs": [],
   "source": [
    "bc_trainer = bc.BC(\n",
    "    observation_space=env.observation_space,\n",
    "    action_space=env.action_space,\n",
    "    demonstrations=transitions,\n",
    "    rng = rng,\n",
    ")"
   ]
  },
  {
   "cell_type": "code",
   "execution_count": 49,
   "id": "3831c672-5d4d-4f13-96a3-9365ed5fcc4b",
   "metadata": {},
   "outputs": [
    {
     "name": "stdout",
     "output_type": "stream",
     "text": [
      "<class 'numpy.ndarray'>\n",
      "(153537, 240, 256)\n",
      "(153537,)\n"
     ]
    }
   ],
   "source": [
    "print (type(transitions['obs']))\n",
    "print ((transitions['obs'].shape))\n",
    "print ((transitions['acts'].shape))"
   ]
  },
  {
   "cell_type": "code",
   "execution_count": 43,
   "id": "cbfcb6f6-9a06-495c-ba35-121f0723a0d1",
   "metadata": {},
   "outputs": [
    {
     "name": "stderr",
     "output_type": "stream",
     "text": [
      "0batch [00:00, ?batch/s]\n"
     ]
    },
    {
     "ename": "TypeError",
     "evalue": "string indices must be integers, not 'str'",
     "output_type": "error",
     "traceback": [
      "\u001b[0;31m---------------------------------------------------------------------------\u001b[0m",
      "\u001b[0;31mTypeError\u001b[0m                                 Traceback (most recent call last)",
      "Cell \u001b[0;32mIn[43], line 1\u001b[0m\n\u001b[0;32m----> 1\u001b[0m bc_trainer\u001b[38;5;241m.\u001b[39mtrain(n_epochs\u001b[38;5;241m=\u001b[39m\u001b[38;5;241m1\u001b[39m)\n\u001b[1;32m      3\u001b[0m reward, _ \u001b[38;5;241m=\u001b[39m evaluate_policy(bc_trainer\u001b[38;5;241m.\u001b[39mpolicy, env, n_eval_episodes\u001b[38;5;241m=\u001b[39m\u001b[38;5;241m10\u001b[39m)\n\u001b[1;32m      4\u001b[0m \u001b[38;5;28mprint\u001b[39m(\u001b[38;5;124m\"\u001b[39m\u001b[38;5;124mReward:\u001b[39m\u001b[38;5;124m\"\u001b[39m, reward)\n",
      "File \u001b[0;32m~/miniconda3/lib/python3.11/site-packages/imitation/algorithms/bc.py:483\u001b[0m, in \u001b[0;36mBC.train\u001b[0;34m(self, n_epochs, n_batches, on_epoch_end, on_batch_end, log_interval, log_rollouts_venv, log_rollouts_n_episodes, progress_bar, reset_tensorboard)\u001b[0m\n\u001b[1;32m    480\u001b[0m         on_batch_end()\n\u001b[1;32m    482\u001b[0m \u001b[38;5;28mself\u001b[39m\u001b[38;5;241m.\u001b[39moptimizer\u001b[38;5;241m.\u001b[39mzero_grad()\n\u001b[0;32m--> 483\u001b[0m \u001b[38;5;28;01mfor\u001b[39;00m (\n\u001b[1;32m    484\u001b[0m     batch_num,\n\u001b[1;32m    485\u001b[0m     minibatch_size,\n\u001b[1;32m    486\u001b[0m     num_samples_so_far,\n\u001b[1;32m    487\u001b[0m ), batch \u001b[38;5;129;01min\u001b[39;00m batches_with_stats:\n\u001b[1;32m    488\u001b[0m     obs_tensor: Union[th\u001b[38;5;241m.\u001b[39mTensor, Dict[\u001b[38;5;28mstr\u001b[39m, th\u001b[38;5;241m.\u001b[39mTensor]]\n\u001b[1;32m    489\u001b[0m     \u001b[38;5;66;03m# unwraps the observation if it's a dictobs and converts arrays to tensors\u001b[39;00m\n",
      "File \u001b[0;32m~/miniconda3/lib/python3.11/site-packages/tqdm/std.py:1178\u001b[0m, in \u001b[0;36mtqdm.__iter__\u001b[0;34m(self)\u001b[0m\n\u001b[1;32m   1175\u001b[0m time \u001b[38;5;241m=\u001b[39m \u001b[38;5;28mself\u001b[39m\u001b[38;5;241m.\u001b[39m_time\n\u001b[1;32m   1177\u001b[0m \u001b[38;5;28;01mtry\u001b[39;00m:\n\u001b[0;32m-> 1178\u001b[0m     \u001b[38;5;28;01mfor\u001b[39;00m obj \u001b[38;5;129;01min\u001b[39;00m iterable:\n\u001b[1;32m   1179\u001b[0m         \u001b[38;5;28;01myield\u001b[39;00m obj\n\u001b[1;32m   1180\u001b[0m         \u001b[38;5;66;03m# Update and possibly print the progressbar.\u001b[39;00m\n\u001b[1;32m   1181\u001b[0m         \u001b[38;5;66;03m# Note: does not call self.update(1) for speed optimisation.\u001b[39;00m\n",
      "File \u001b[0;32m~/miniconda3/lib/python3.11/site-packages/imitation/algorithms/bc.py:164\u001b[0m, in \u001b[0;36menumerate_batches\u001b[0;34m(batch_it)\u001b[0m\n\u001b[1;32m    162\u001b[0m \u001b[38;5;250m\u001b[39m\u001b[38;5;124;03m\"\"\"Prepends batch stats before the batches of a batch iterator.\"\"\"\u001b[39;00m\n\u001b[1;32m    163\u001b[0m num_samples_so_far \u001b[38;5;241m=\u001b[39m \u001b[38;5;241m0\u001b[39m\n\u001b[0;32m--> 164\u001b[0m \u001b[38;5;28;01mfor\u001b[39;00m num_batches, batch \u001b[38;5;129;01min\u001b[39;00m \u001b[38;5;28menumerate\u001b[39m(batch_it):\n\u001b[1;32m    165\u001b[0m     batch_size \u001b[38;5;241m=\u001b[39m \u001b[38;5;28mlen\u001b[39m(batch[\u001b[38;5;124m\"\u001b[39m\u001b[38;5;124mobs\u001b[39m\u001b[38;5;124m\"\u001b[39m])\n\u001b[1;32m    166\u001b[0m     num_samples_so_far \u001b[38;5;241m+\u001b[39m\u001b[38;5;241m=\u001b[39m batch_size\n",
      "File \u001b[0;32m~/miniconda3/lib/python3.11/site-packages/imitation/algorithms/bc.py:64\u001b[0m, in \u001b[0;36mBatchIteratorWithEpochEndCallback.__iter__.<locals>.batch_iterator\u001b[0;34m()\u001b[0m\n\u001b[1;32m     62\u001b[0m \u001b[38;5;28;01mfor\u001b[39;00m epoch_num \u001b[38;5;129;01min\u001b[39;00m itertools\u001b[38;5;241m.\u001b[39mislice(itertools\u001b[38;5;241m.\u001b[39mcount(), \u001b[38;5;28mself\u001b[39m\u001b[38;5;241m.\u001b[39mn_epochs):\n\u001b[1;32m     63\u001b[0m     some_batch_was_yielded \u001b[38;5;241m=\u001b[39m \u001b[38;5;28;01mFalse\u001b[39;00m\n\u001b[0;32m---> 64\u001b[0m     \u001b[38;5;28;01mfor\u001b[39;00m batch \u001b[38;5;129;01min\u001b[39;00m \u001b[38;5;28mself\u001b[39m\u001b[38;5;241m.\u001b[39mbatch_loader:\n\u001b[1;32m     65\u001b[0m         \u001b[38;5;28;01myield\u001b[39;00m batch\n\u001b[1;32m     66\u001b[0m         some_batch_was_yielded \u001b[38;5;241m=\u001b[39m \u001b[38;5;28;01mTrue\u001b[39;00m\n",
      "File \u001b[0;32m~/miniconda3/lib/python3.11/site-packages/imitation/algorithms/base.py:213\u001b[0m, in \u001b[0;36m_WrappedDataLoader.__iter__\u001b[0;34m(self)\u001b[0m\n\u001b[1;32m    203\u001b[0m \u001b[38;5;250m\u001b[39m\u001b[38;5;124;03m\"\"\"Yields data from `self.data_loader`, checking `self.expected_batch_size`.\u001b[39;00m\n\u001b[1;32m    204\u001b[0m \n\u001b[1;32m    205\u001b[0m \u001b[38;5;124;03mYields:\u001b[39;00m\n\u001b[0;32m   (...)\u001b[0m\n\u001b[1;32m    210\u001b[0m \u001b[38;5;124;03m        `self.expected_batch_size`.\u001b[39;00m\n\u001b[1;32m    211\u001b[0m \u001b[38;5;124;03m\"\"\"\u001b[39;00m\n\u001b[1;32m    212\u001b[0m \u001b[38;5;28;01mfor\u001b[39;00m batch \u001b[38;5;129;01min\u001b[39;00m \u001b[38;5;28mself\u001b[39m\u001b[38;5;241m.\u001b[39mdata_loader:\n\u001b[0;32m--> 213\u001b[0m     \u001b[38;5;28;01mif\u001b[39;00m \u001b[38;5;28mlen\u001b[39m(batch[\u001b[38;5;124m\"\u001b[39m\u001b[38;5;124mobs\u001b[39m\u001b[38;5;124m\"\u001b[39m]) \u001b[38;5;241m!=\u001b[39m \u001b[38;5;28mself\u001b[39m\u001b[38;5;241m.\u001b[39mexpected_batch_size:\n\u001b[1;32m    214\u001b[0m         \u001b[38;5;28;01mraise\u001b[39;00m \u001b[38;5;167;01mValueError\u001b[39;00m(\n\u001b[1;32m    215\u001b[0m             \u001b[38;5;124mf\u001b[39m\u001b[38;5;124m\"\u001b[39m\u001b[38;5;124mExpected batch size \u001b[39m\u001b[38;5;132;01m{\u001b[39;00m\u001b[38;5;28mself\u001b[39m\u001b[38;5;241m.\u001b[39mexpected_batch_size\u001b[38;5;132;01m}\u001b[39;00m\u001b[38;5;124m \u001b[39m\u001b[38;5;124m\"\u001b[39m\n\u001b[1;32m    216\u001b[0m             \u001b[38;5;124mf\u001b[39m\u001b[38;5;124m\"\u001b[39m\u001b[38;5;124m!= \u001b[39m\u001b[38;5;132;01m{\u001b[39;00m\u001b[38;5;28mlen\u001b[39m(batch[\u001b[38;5;124m'\u001b[39m\u001b[38;5;124mobs\u001b[39m\u001b[38;5;124m'\u001b[39m])\u001b[38;5;132;01m}\u001b[39;00m\u001b[38;5;124m = len(batch[\u001b[39m\u001b[38;5;124m'\u001b[39m\u001b[38;5;124mobs\u001b[39m\u001b[38;5;124m'\u001b[39m\u001b[38;5;124m])\u001b[39m\u001b[38;5;124m\"\u001b[39m,\n\u001b[1;32m    217\u001b[0m         )\n\u001b[1;32m    218\u001b[0m     \u001b[38;5;28;01mif\u001b[39;00m \u001b[38;5;28mlen\u001b[39m(batch[\u001b[38;5;124m\"\u001b[39m\u001b[38;5;124macts\u001b[39m\u001b[38;5;124m\"\u001b[39m]) \u001b[38;5;241m!=\u001b[39m \u001b[38;5;28mself\u001b[39m\u001b[38;5;241m.\u001b[39mexpected_batch_size:\n",
      "\u001b[0;31mTypeError\u001b[0m: string indices must be integers, not 'str'"
     ]
    }
   ],
   "source": [
    "bc_trainer.train(n_epochs=1)\n",
    "\n",
    "reward, _ = evaluate_policy(bc_trainer.policy, env, n_eval_episodes=10)\n",
    "print(\"Reward:\", reward)"
   ]
  },
  {
   "cell_type": "code",
   "execution_count": null,
   "id": "7a276ca9-dfdd-4b0c-b74f-5eb52710a843",
   "metadata": {},
   "outputs": [],
   "source": []
  }
 ],
 "metadata": {
  "kernelspec": {
   "display_name": "Python 3 (ipykernel)",
   "language": "python",
   "name": "python3"
  },
  "language_info": {
   "codemirror_mode": {
    "name": "ipython",
    "version": 3
   },
   "file_extension": ".py",
   "mimetype": "text/x-python",
   "name": "python",
   "nbconvert_exporter": "python",
   "pygments_lexer": "ipython3",
   "version": "3.11.5"
  }
 },
 "nbformat": 4,
 "nbformat_minor": 5
}
