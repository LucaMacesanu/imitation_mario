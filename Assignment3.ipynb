{
 "cells": [
  {
   "cell_type": "markdown",
   "id": "0fd33643",
   "metadata": {},
   "source": [
    "### This assignment may be worked individually or in pairs. \n",
    "### Enter your name/names here:"
   ]
  },
  {
   "cell_type": "code",
   "execution_count": 1,
   "id": "2649232b",
   "metadata": {},
   "outputs": [],
   "source": [
    "# Luca Macesanu\n",
    "# Samik Singh"
   ]
  },
  {
   "cell_type": "code",
   "execution_count": 1,
   "id": "ab1fe226",
   "metadata": {},
   "outputs": [],
   "source": [
    "# headers\n",
    "import pandas as pd\n",
    "import matplotlib.pyplot as plt\n",
    "import numpy as np"
   ]
  },
  {
   "cell_type": "markdown",
   "id": "7a7c7806",
   "metadata": {},
   "source": [
    "# Assignment 2: Linear Regression and KNN Classifier"
   ]
  },
  {
   "cell_type": "markdown",
   "id": "5bccf477",
   "metadata": {},
   "source": [
    "## Part 1: Linear regression with scikit-learn\n",
    "\n",
    "In this part of the assignment, you will fit a linear regression model to an insurance dataset using the scikit-learn package. \n",
    "\n",
    "The insurance company would like to be able to estimate the annual medical expenditures they will need to pay for any customer, based on the customer's age, sex, BMI, # of children, whether they are a smoker, and their region of residence. \n",
    "\n",
    "Estimates from this model can be used to then determine how much to charge each customer for insurance (the more we think you'll cost us, the more we will charge you)."
   ]
  },
  {
   "cell_type": "markdown",
   "id": "8bb47879",
   "metadata": {},
   "source": [
    "**Data Prep**\n",
    "\n",
    "Q1. Read the dataset from 'medical-charges.txt' into a Pandas Dataframe. Display the head of the dataset. There should be 1338 rows and 7 columns. The target column (y) is the `charges` column."
   ]
  },
  {
   "cell_type": "code",
   "execution_count": 3,
   "id": "589c05de",
   "metadata": {
    "scrolled": true
   },
   "outputs": [
    {
     "data": {
      "text/html": [
       "<div>\n",
       "<style scoped>\n",
       "    .dataframe tbody tr th:only-of-type {\n",
       "        vertical-align: middle;\n",
       "    }\n",
       "\n",
       "    .dataframe tbody tr th {\n",
       "        vertical-align: top;\n",
       "    }\n",
       "\n",
       "    .dataframe thead th {\n",
       "        text-align: right;\n",
       "    }\n",
       "</style>\n",
       "<table border=\"1\" class=\"dataframe\">\n",
       "  <thead>\n",
       "    <tr style=\"text-align: right;\">\n",
       "      <th></th>\n",
       "      <th>age</th>\n",
       "      <th>sex</th>\n",
       "      <th>bmi</th>\n",
       "      <th>children</th>\n",
       "      <th>smoker</th>\n",
       "      <th>region</th>\n",
       "      <th>charges</th>\n",
       "    </tr>\n",
       "  </thead>\n",
       "  <tbody>\n",
       "    <tr>\n",
       "      <th>0</th>\n",
       "      <td>19</td>\n",
       "      <td>female</td>\n",
       "      <td>27.900</td>\n",
       "      <td>0</td>\n",
       "      <td>yes</td>\n",
       "      <td>southwest</td>\n",
       "      <td>16884.92400</td>\n",
       "    </tr>\n",
       "    <tr>\n",
       "      <th>1</th>\n",
       "      <td>18</td>\n",
       "      <td>male</td>\n",
       "      <td>33.770</td>\n",
       "      <td>1</td>\n",
       "      <td>no</td>\n",
       "      <td>southeast</td>\n",
       "      <td>1725.55230</td>\n",
       "    </tr>\n",
       "    <tr>\n",
       "      <th>2</th>\n",
       "      <td>28</td>\n",
       "      <td>male</td>\n",
       "      <td>33.000</td>\n",
       "      <td>3</td>\n",
       "      <td>no</td>\n",
       "      <td>southeast</td>\n",
       "      <td>4449.46200</td>\n",
       "    </tr>\n",
       "    <tr>\n",
       "      <th>3</th>\n",
       "      <td>33</td>\n",
       "      <td>male</td>\n",
       "      <td>22.705</td>\n",
       "      <td>0</td>\n",
       "      <td>no</td>\n",
       "      <td>northwest</td>\n",
       "      <td>21984.47061</td>\n",
       "    </tr>\n",
       "    <tr>\n",
       "      <th>4</th>\n",
       "      <td>32</td>\n",
       "      <td>male</td>\n",
       "      <td>28.880</td>\n",
       "      <td>0</td>\n",
       "      <td>no</td>\n",
       "      <td>northwest</td>\n",
       "      <td>3866.85520</td>\n",
       "    </tr>\n",
       "  </tbody>\n",
       "</table>\n",
       "</div>"
      ],
      "text/plain": [
       "   age     sex     bmi  children smoker     region      charges\n",
       "0   19  female  27.900         0    yes  southwest  16884.92400\n",
       "1   18    male  33.770         1     no  southeast   1725.55230\n",
       "2   28    male  33.000         3     no  southeast   4449.46200\n",
       "3   33    male  22.705         0     no  northwest  21984.47061\n",
       "4   32    male  28.880         0     no  northwest   3866.85520"
      ]
     },
     "execution_count": 3,
     "metadata": {},
     "output_type": "execute_result"
    }
   ],
   "source": [
    "filename = \"medical-charges.txt\"\n",
    "data = pd.read_csv(filename, header=\"infer\")\n",
    "data.head()\n"
   ]
  },
  {
   "cell_type": "markdown",
   "id": "3043bb91",
   "metadata": {},
   "source": [
    "Q2. Notice that there are several categorical columns. You'll need to transform these to be able to do regression. Since `sex` and `smoker` are binary in this dataset, let's do them differently than `region` which has 4 options.\n",
    "\n",
    "* Use the Pandas [get_dummies()](https://pandas.pydata.org/docs/reference/api/pandas.get_dummies.html) function to one-hot-encode `sex` and `smoker`. \n",
    "* Since these features are binary, we do not need to create two columns for each of them (i.e. we do not need both smoker_yes and smoker_no - just having a smoker_yes column will be sufficient), so use the `drop_first` parameter of get_dummies to create only a `smoker_yes` and a `sex_male` column. \n",
    "* Display the head of the dataframe."
   ]
  },
  {
   "cell_type": "code",
   "execution_count": 4,
   "id": "0484464d",
   "metadata": {},
   "outputs": [
    {
     "data": {
      "text/html": [
       "<div>\n",
       "<style scoped>\n",
       "    .dataframe tbody tr th:only-of-type {\n",
       "        vertical-align: middle;\n",
       "    }\n",
       "\n",
       "    .dataframe tbody tr th {\n",
       "        vertical-align: top;\n",
       "    }\n",
       "\n",
       "    .dataframe thead th {\n",
       "        text-align: right;\n",
       "    }\n",
       "</style>\n",
       "<table border=\"1\" class=\"dataframe\">\n",
       "  <thead>\n",
       "    <tr style=\"text-align: right;\">\n",
       "      <th></th>\n",
       "      <th>age</th>\n",
       "      <th>sex</th>\n",
       "      <th>bmi</th>\n",
       "      <th>children</th>\n",
       "      <th>smoker</th>\n",
       "      <th>region</th>\n",
       "      <th>charges</th>\n",
       "      <th>smoker_yes</th>\n",
       "      <th>sex_male</th>\n",
       "    </tr>\n",
       "  </thead>\n",
       "  <tbody>\n",
       "    <tr>\n",
       "      <th>0</th>\n",
       "      <td>19</td>\n",
       "      <td>female</td>\n",
       "      <td>27.900</td>\n",
       "      <td>0</td>\n",
       "      <td>yes</td>\n",
       "      <td>southwest</td>\n",
       "      <td>16884.92400</td>\n",
       "      <td>True</td>\n",
       "      <td>False</td>\n",
       "    </tr>\n",
       "    <tr>\n",
       "      <th>1</th>\n",
       "      <td>18</td>\n",
       "      <td>male</td>\n",
       "      <td>33.770</td>\n",
       "      <td>1</td>\n",
       "      <td>no</td>\n",
       "      <td>southeast</td>\n",
       "      <td>1725.55230</td>\n",
       "      <td>False</td>\n",
       "      <td>True</td>\n",
       "    </tr>\n",
       "    <tr>\n",
       "      <th>2</th>\n",
       "      <td>28</td>\n",
       "      <td>male</td>\n",
       "      <td>33.000</td>\n",
       "      <td>3</td>\n",
       "      <td>no</td>\n",
       "      <td>southeast</td>\n",
       "      <td>4449.46200</td>\n",
       "      <td>False</td>\n",
       "      <td>True</td>\n",
       "    </tr>\n",
       "    <tr>\n",
       "      <th>3</th>\n",
       "      <td>33</td>\n",
       "      <td>male</td>\n",
       "      <td>22.705</td>\n",
       "      <td>0</td>\n",
       "      <td>no</td>\n",
       "      <td>northwest</td>\n",
       "      <td>21984.47061</td>\n",
       "      <td>False</td>\n",
       "      <td>True</td>\n",
       "    </tr>\n",
       "    <tr>\n",
       "      <th>4</th>\n",
       "      <td>32</td>\n",
       "      <td>male</td>\n",
       "      <td>28.880</td>\n",
       "      <td>0</td>\n",
       "      <td>no</td>\n",
       "      <td>northwest</td>\n",
       "      <td>3866.85520</td>\n",
       "      <td>False</td>\n",
       "      <td>True</td>\n",
       "    </tr>\n",
       "  </tbody>\n",
       "</table>\n",
       "</div>"
      ],
      "text/plain": [
       "   age     sex     bmi  children smoker     region      charges  smoker_yes  \\\n",
       "0   19  female  27.900         0    yes  southwest  16884.92400        True   \n",
       "1   18    male  33.770         1     no  southeast   1725.55230       False   \n",
       "2   28    male  33.000         3     no  southeast   4449.46200       False   \n",
       "3   33    male  22.705         0     no  northwest  21984.47061       False   \n",
       "4   32    male  28.880         0     no  northwest   3866.85520       False   \n",
       "\n",
       "   sex_male  \n",
       "0     False  \n",
       "1      True  \n",
       "2      True  \n",
       "3      True  \n",
       "4      True  "
      ]
     },
     "execution_count": 4,
     "metadata": {},
     "output_type": "execute_result"
    }
   ],
   "source": [
    "smoker_one_hot = pd.get_dummies(data[\"smoker\"], drop_first=True)\n",
    "data[\"smoker_yes\"] = smoker_one_hot\n",
    "\n",
    "sex_one_hot = pd.get_dummies(data[\"sex\"], drop_first=True)\n",
    "data[\"sex_male\"] = sex_one_hot\n",
    "\n",
    "data.head()\n"
   ]
  },
  {
   "cell_type": "markdown",
   "id": "11737757",
   "metadata": {},
   "source": [
    "Q3. Now one-hot encode the `region` feature by again using `get_dummies()`, but this time, even though we could drop one column, let's go ahead and explicitly keep all 4 values as columns (i.e. drop_first should be set to False). Display the head of the resulting dataframe."
   ]
  },
  {
   "cell_type": "code",
   "execution_count": 5,
   "id": "e0b43b2c",
   "metadata": {
    "scrolled": true
   },
   "outputs": [
    {
     "data": {
      "text/html": [
       "<div>\n",
       "<style scoped>\n",
       "    .dataframe tbody tr th:only-of-type {\n",
       "        vertical-align: middle;\n",
       "    }\n",
       "\n",
       "    .dataframe tbody tr th {\n",
       "        vertical-align: top;\n",
       "    }\n",
       "\n",
       "    .dataframe thead th {\n",
       "        text-align: right;\n",
       "    }\n",
       "</style>\n",
       "<table border=\"1\" class=\"dataframe\">\n",
       "  <thead>\n",
       "    <tr style=\"text-align: right;\">\n",
       "      <th></th>\n",
       "      <th>age</th>\n",
       "      <th>sex</th>\n",
       "      <th>bmi</th>\n",
       "      <th>children</th>\n",
       "      <th>smoker</th>\n",
       "      <th>region</th>\n",
       "      <th>charges</th>\n",
       "      <th>smoker_yes</th>\n",
       "      <th>sex_male</th>\n",
       "      <th>northeast</th>\n",
       "      <th>northwest</th>\n",
       "      <th>southeast</th>\n",
       "      <th>southwest</th>\n",
       "    </tr>\n",
       "  </thead>\n",
       "  <tbody>\n",
       "    <tr>\n",
       "      <th>0</th>\n",
       "      <td>19</td>\n",
       "      <td>female</td>\n",
       "      <td>27.900</td>\n",
       "      <td>0</td>\n",
       "      <td>yes</td>\n",
       "      <td>southwest</td>\n",
       "      <td>16884.92400</td>\n",
       "      <td>True</td>\n",
       "      <td>False</td>\n",
       "      <td>False</td>\n",
       "      <td>False</td>\n",
       "      <td>False</td>\n",
       "      <td>True</td>\n",
       "    </tr>\n",
       "    <tr>\n",
       "      <th>1</th>\n",
       "      <td>18</td>\n",
       "      <td>male</td>\n",
       "      <td>33.770</td>\n",
       "      <td>1</td>\n",
       "      <td>no</td>\n",
       "      <td>southeast</td>\n",
       "      <td>1725.55230</td>\n",
       "      <td>False</td>\n",
       "      <td>True</td>\n",
       "      <td>False</td>\n",
       "      <td>False</td>\n",
       "      <td>True</td>\n",
       "      <td>False</td>\n",
       "    </tr>\n",
       "    <tr>\n",
       "      <th>2</th>\n",
       "      <td>28</td>\n",
       "      <td>male</td>\n",
       "      <td>33.000</td>\n",
       "      <td>3</td>\n",
       "      <td>no</td>\n",
       "      <td>southeast</td>\n",
       "      <td>4449.46200</td>\n",
       "      <td>False</td>\n",
       "      <td>True</td>\n",
       "      <td>False</td>\n",
       "      <td>False</td>\n",
       "      <td>True</td>\n",
       "      <td>False</td>\n",
       "    </tr>\n",
       "    <tr>\n",
       "      <th>3</th>\n",
       "      <td>33</td>\n",
       "      <td>male</td>\n",
       "      <td>22.705</td>\n",
       "      <td>0</td>\n",
       "      <td>no</td>\n",
       "      <td>northwest</td>\n",
       "      <td>21984.47061</td>\n",
       "      <td>False</td>\n",
       "      <td>True</td>\n",
       "      <td>False</td>\n",
       "      <td>True</td>\n",
       "      <td>False</td>\n",
       "      <td>False</td>\n",
       "    </tr>\n",
       "    <tr>\n",
       "      <th>4</th>\n",
       "      <td>32</td>\n",
       "      <td>male</td>\n",
       "      <td>28.880</td>\n",
       "      <td>0</td>\n",
       "      <td>no</td>\n",
       "      <td>northwest</td>\n",
       "      <td>3866.85520</td>\n",
       "      <td>False</td>\n",
       "      <td>True</td>\n",
       "      <td>False</td>\n",
       "      <td>True</td>\n",
       "      <td>False</td>\n",
       "      <td>False</td>\n",
       "    </tr>\n",
       "  </tbody>\n",
       "</table>\n",
       "</div>"
      ],
      "text/plain": [
       "   age     sex     bmi  children smoker     region      charges  smoker_yes  \\\n",
       "0   19  female  27.900         0    yes  southwest  16884.92400        True   \n",
       "1   18    male  33.770         1     no  southeast   1725.55230       False   \n",
       "2   28    male  33.000         3     no  southeast   4449.46200       False   \n",
       "3   33    male  22.705         0     no  northwest  21984.47061       False   \n",
       "4   32    male  28.880         0     no  northwest   3866.85520       False   \n",
       "\n",
       "   sex_male  northeast  northwest  southeast  southwest  \n",
       "0     False      False      False      False       True  \n",
       "1      True      False      False       True      False  \n",
       "2      True      False      False       True      False  \n",
       "3      True      False       True      False      False  \n",
       "4      True      False       True      False      False  "
      ]
     },
     "execution_count": 5,
     "metadata": {},
     "output_type": "execute_result"
    }
   ],
   "source": [
    "region_one_hot = pd.get_dummies(data[\"region\"])\n",
    "data = data.join(region_one_hot)\n",
    "data.head()"
   ]
  },
  {
   "cell_type": "markdown",
   "id": "38a13dc1",
   "metadata": {},
   "source": [
    "Q4. An interesting thing to check with regression problems is whether any of the individual features correlate very strongly with the label. Use the `corr()` method on the dataframe to take a look at this.\n",
    "\n",
    "Answer as a comment: Do you see any features with a strong correlation to the label?"
   ]
  },
  {
   "cell_type": "code",
   "execution_count": 6,
   "id": "6ad660fd",
   "metadata": {
    "scrolled": true
   },
   "outputs": [
    {
     "data": {
      "text/html": [
       "<div>\n",
       "<style scoped>\n",
       "    .dataframe tbody tr th:only-of-type {\n",
       "        vertical-align: middle;\n",
       "    }\n",
       "\n",
       "    .dataframe tbody tr th {\n",
       "        vertical-align: top;\n",
       "    }\n",
       "\n",
       "    .dataframe thead th {\n",
       "        text-align: right;\n",
       "    }\n",
       "</style>\n",
       "<table border=\"1\" class=\"dataframe\">\n",
       "  <thead>\n",
       "    <tr style=\"text-align: right;\">\n",
       "      <th></th>\n",
       "      <th>age</th>\n",
       "      <th>bmi</th>\n",
       "      <th>children</th>\n",
       "      <th>charges</th>\n",
       "      <th>smoker_yes</th>\n",
       "      <th>sex_male</th>\n",
       "      <th>northeast</th>\n",
       "      <th>northwest</th>\n",
       "      <th>southeast</th>\n",
       "      <th>southwest</th>\n",
       "    </tr>\n",
       "  </thead>\n",
       "  <tbody>\n",
       "    <tr>\n",
       "      <th>age</th>\n",
       "      <td>1.000000</td>\n",
       "      <td>0.109272</td>\n",
       "      <td>0.042469</td>\n",
       "      <td>0.299008</td>\n",
       "      <td>-0.025019</td>\n",
       "      <td>-0.020856</td>\n",
       "      <td>0.002475</td>\n",
       "      <td>-0.000407</td>\n",
       "      <td>-0.011642</td>\n",
       "      <td>0.010016</td>\n",
       "    </tr>\n",
       "    <tr>\n",
       "      <th>bmi</th>\n",
       "      <td>0.109272</td>\n",
       "      <td>1.000000</td>\n",
       "      <td>0.012759</td>\n",
       "      <td>0.198341</td>\n",
       "      <td>0.003750</td>\n",
       "      <td>0.046371</td>\n",
       "      <td>-0.138156</td>\n",
       "      <td>-0.135996</td>\n",
       "      <td>0.270025</td>\n",
       "      <td>-0.006205</td>\n",
       "    </tr>\n",
       "    <tr>\n",
       "      <th>children</th>\n",
       "      <td>0.042469</td>\n",
       "      <td>0.012759</td>\n",
       "      <td>1.000000</td>\n",
       "      <td>0.067998</td>\n",
       "      <td>0.007673</td>\n",
       "      <td>0.017163</td>\n",
       "      <td>-0.022808</td>\n",
       "      <td>0.024806</td>\n",
       "      <td>-0.023066</td>\n",
       "      <td>0.021914</td>\n",
       "    </tr>\n",
       "    <tr>\n",
       "      <th>charges</th>\n",
       "      <td>0.299008</td>\n",
       "      <td>0.198341</td>\n",
       "      <td>0.067998</td>\n",
       "      <td>1.000000</td>\n",
       "      <td>0.787251</td>\n",
       "      <td>0.057292</td>\n",
       "      <td>0.006349</td>\n",
       "      <td>-0.039905</td>\n",
       "      <td>0.073982</td>\n",
       "      <td>-0.043210</td>\n",
       "    </tr>\n",
       "    <tr>\n",
       "      <th>smoker_yes</th>\n",
       "      <td>-0.025019</td>\n",
       "      <td>0.003750</td>\n",
       "      <td>0.007673</td>\n",
       "      <td>0.787251</td>\n",
       "      <td>1.000000</td>\n",
       "      <td>0.076185</td>\n",
       "      <td>0.002811</td>\n",
       "      <td>-0.036945</td>\n",
       "      <td>0.068498</td>\n",
       "      <td>-0.036945</td>\n",
       "    </tr>\n",
       "    <tr>\n",
       "      <th>sex_male</th>\n",
       "      <td>-0.020856</td>\n",
       "      <td>0.046371</td>\n",
       "      <td>0.017163</td>\n",
       "      <td>0.057292</td>\n",
       "      <td>0.076185</td>\n",
       "      <td>1.000000</td>\n",
       "      <td>-0.002425</td>\n",
       "      <td>-0.011156</td>\n",
       "      <td>0.017117</td>\n",
       "      <td>-0.004184</td>\n",
       "    </tr>\n",
       "    <tr>\n",
       "      <th>northeast</th>\n",
       "      <td>0.002475</td>\n",
       "      <td>-0.138156</td>\n",
       "      <td>-0.022808</td>\n",
       "      <td>0.006349</td>\n",
       "      <td>0.002811</td>\n",
       "      <td>-0.002425</td>\n",
       "      <td>1.000000</td>\n",
       "      <td>-0.320177</td>\n",
       "      <td>-0.345561</td>\n",
       "      <td>-0.320177</td>\n",
       "    </tr>\n",
       "    <tr>\n",
       "      <th>northwest</th>\n",
       "      <td>-0.000407</td>\n",
       "      <td>-0.135996</td>\n",
       "      <td>0.024806</td>\n",
       "      <td>-0.039905</td>\n",
       "      <td>-0.036945</td>\n",
       "      <td>-0.011156</td>\n",
       "      <td>-0.320177</td>\n",
       "      <td>1.000000</td>\n",
       "      <td>-0.346265</td>\n",
       "      <td>-0.320829</td>\n",
       "    </tr>\n",
       "    <tr>\n",
       "      <th>southeast</th>\n",
       "      <td>-0.011642</td>\n",
       "      <td>0.270025</td>\n",
       "      <td>-0.023066</td>\n",
       "      <td>0.073982</td>\n",
       "      <td>0.068498</td>\n",
       "      <td>0.017117</td>\n",
       "      <td>-0.345561</td>\n",
       "      <td>-0.346265</td>\n",
       "      <td>1.000000</td>\n",
       "      <td>-0.346265</td>\n",
       "    </tr>\n",
       "    <tr>\n",
       "      <th>southwest</th>\n",
       "      <td>0.010016</td>\n",
       "      <td>-0.006205</td>\n",
       "      <td>0.021914</td>\n",
       "      <td>-0.043210</td>\n",
       "      <td>-0.036945</td>\n",
       "      <td>-0.004184</td>\n",
       "      <td>-0.320177</td>\n",
       "      <td>-0.320829</td>\n",
       "      <td>-0.346265</td>\n",
       "      <td>1.000000</td>\n",
       "    </tr>\n",
       "  </tbody>\n",
       "</table>\n",
       "</div>"
      ],
      "text/plain": [
       "                 age       bmi  children   charges  smoker_yes  sex_male  \\\n",
       "age         1.000000  0.109272  0.042469  0.299008   -0.025019 -0.020856   \n",
       "bmi         0.109272  1.000000  0.012759  0.198341    0.003750  0.046371   \n",
       "children    0.042469  0.012759  1.000000  0.067998    0.007673  0.017163   \n",
       "charges     0.299008  0.198341  0.067998  1.000000    0.787251  0.057292   \n",
       "smoker_yes -0.025019  0.003750  0.007673  0.787251    1.000000  0.076185   \n",
       "sex_male   -0.020856  0.046371  0.017163  0.057292    0.076185  1.000000   \n",
       "northeast   0.002475 -0.138156 -0.022808  0.006349    0.002811 -0.002425   \n",
       "northwest  -0.000407 -0.135996  0.024806 -0.039905   -0.036945 -0.011156   \n",
       "southeast  -0.011642  0.270025 -0.023066  0.073982    0.068498  0.017117   \n",
       "southwest   0.010016 -0.006205  0.021914 -0.043210   -0.036945 -0.004184   \n",
       "\n",
       "            northeast  northwest  southeast  southwest  \n",
       "age          0.002475  -0.000407  -0.011642   0.010016  \n",
       "bmi         -0.138156  -0.135996   0.270025  -0.006205  \n",
       "children    -0.022808   0.024806  -0.023066   0.021914  \n",
       "charges      0.006349  -0.039905   0.073982  -0.043210  \n",
       "smoker_yes   0.002811  -0.036945   0.068498  -0.036945  \n",
       "sex_male    -0.002425  -0.011156   0.017117  -0.004184  \n",
       "northeast    1.000000  -0.320177  -0.345561  -0.320177  \n",
       "northwest   -0.320177   1.000000  -0.346265  -0.320829  \n",
       "southeast   -0.345561  -0.346265   1.000000  -0.346265  \n",
       "southwest   -0.320177  -0.320829  -0.346265   1.000000  "
      ]
     },
     "execution_count": 6,
     "metadata": {},
     "output_type": "execute_result"
    }
   ],
   "source": [
    "data.corr(numeric_only=True)\n",
    "\n",
    "# Smoker has the highest correlation of 0.787, with age also being a noticable contributor at 0.299.\n",
    "# All other attributes have poor correlations with charges"
   ]
  },
  {
   "cell_type": "markdown",
   "id": "4b86aa6a",
   "metadata": {},
   "source": [
    "Q5. Create a plot to show the difference in charges between the smokers and the non-smokers. "
   ]
  },
  {
   "cell_type": "code",
   "execution_count": 7,
   "id": "2f3a1ce1",
   "metadata": {},
   "outputs": [
    {
     "data": {
      "text/plain": [
       "Text(0.5, 1.0, 'Charges for smokers and non smokers')"
      ]
     },
     "execution_count": 7,
     "metadata": {},
     "output_type": "execute_result"
    },
    {
     "data": {
      "image/png": "[encoded data removed]",
      "text/plain": [
       "<Figure size 640x480 with 1 Axes>"
      ]
     },
     "metadata": {},
     "output_type": "display_data"
    }
   ],
   "source": [
    "smokers = data.loc[data[\"smoker_yes\"]]\n",
    "non_smokers = data.loc[data[\"smoker_yes\"] == False]\n",
    "\n",
    "plt.boxplot([smokers[\"charges\"],non_smokers[\"charges\"]], labels=[\"smokers\",\"non-smokers\"])\n",
    "plt.ylabel(\"charges\")\n",
    "plt.title(\"Charges for smokers and non smokers\")"
   ]
  },
  {
   "cell_type": "markdown",
   "id": "5ece359c",
   "metadata": {},
   "source": [
    "Q6. Let's explore the relationship between `age` and `charges`. Create a scatter plot of all data points to show age vs charges. \n",
    "\n",
    "Answer as a comment: What do you notice about the nature of this relationship?"
   ]
  },
  {
   "cell_type": "code",
   "execution_count": 8,
   "id": "78a4ddce",
   "metadata": {},
   "outputs": [
    {
     "data": {
      "text/plain": [
       "Text(0.5, 1.0, 'Charges by age')"
      ]
     },
     "execution_count": 8,
     "metadata": {},
     "output_type": "execute_result"
    },
    {
     "data": {
      "image/png": "[encoded data removed]",
      "text/plain": [
       "<Figure size 640x480 with 1 Axes>"
      ]
     },
     "metadata": {},
     "output_type": "display_data"
    }
   ],
   "source": [
    "plt.scatter(x=data[\"age\"], y=data[\"charges\"])\n",
    "plt.title(\"Charges by age\")"
   ]
  },
  {
   "cell_type": "markdown",
   "id": "ce9b1624",
   "metadata": {},
   "source": [
    "#### Simple Linear Regression\n",
    "**Fit a simple linear regression model to predict `charges` from `age`.**\n",
    "\n",
    "Q7. \n",
    "* Grab the `age` column from the dataframe and call it something like `x`.\n",
    "* Grab the `charges` column from the dataframe and call it something like `y`.\n",
    "* When doing simple linear regression (one feature), you need to convert the features from a Series to a list of lists. You can do this by doing `x = x.values.reshape(-1,1)`, where the (-1,1) means (all rows, one column). \n",
    "* Do the same to the labels (`y = y.values.reshape(-1,1)`). \n",
    "* Verify that you have a list of lists for both x and y."
   ]
  },
  {
   "cell_type": "code",
   "execution_count": 9,
   "id": "a012a960",
   "metadata": {
    "scrolled": true
   },
   "outputs": [
    {
     "name": "stdout",
     "output_type": "stream",
     "text": [
      "<class 'numpy.ndarray'>\n",
      "<class 'numpy.ndarray'>\n"
     ]
    }
   ],
   "source": [
    "x = data[\"age\"]\n",
    "y = data[\"charges\"]\n",
    "x = x.values.reshape(-1,1)\n",
    "y = y.values.reshape(-1,1)\n",
    "print(type(x))\n",
    "print(type(y))"
   ]
  },
  {
   "cell_type": "markdown",
   "id": "08424490",
   "metadata": {},
   "source": [
    "**Using the holdout method**\n",
    "\n",
    "Q8. Use [sklearn.model_selection.train_test_split](https://scikit-learn.org/stable/modules/generated/sklearn.model_selection.train_test_split.html) to split your dataset into training and test sets. Do an 80%-20% split. Display how many records are in the training set and how many are in the test set. Set the random_state argument to your favorite number."
   ]
  },
  {
   "cell_type": "code",
   "execution_count": 10,
   "id": "e9c24d71",
   "metadata": {
    "scrolled": true
   },
   "outputs": [],
   "source": [
    "from sklearn.model_selection import train_test_split\n",
    "X_train, X_test, y_train, y_test = train_test_split(x,y, test_size=0.2, random_state=73)"
   ]
  },
  {
   "cell_type": "markdown",
   "id": "cffda89c",
   "metadata": {},
   "source": [
    "Q9. Fit a simple linear regression model to the x and y data. This computes the B0 and B1 coefficients.\n",
    "* Create a [sklearn.linear_model.LinearRegression](https://scikit-learn.org/stable/modules/generated/sklearn.linear_model.LinearRegression.html) object. \n",
    "* Call `fit` on it and pass in the training set.\n",
    "* Print the slope and the intercept of the equation with the `.coef_` and `.intercept_` attributes. "
   ]
  },
  {
   "cell_type": "code",
   "execution_count": 11,
   "id": "caa8b841",
   "metadata": {},
   "outputs": [
    {
     "name": "stdout",
     "output_type": "stream",
     "text": [
      "Slope: 272.4922688284206\n",
      "Intercept: 2447.0411693149945\n"
     ]
    }
   ],
   "source": [
    "from sklearn.linear_model import LinearRegression\n",
    "regressor = LinearRegression()\n",
    "regressor.fit(X_train, y_train)\n",
    "print(\"Slope:\", regressor.coef_.item())\n",
    "print(\"Intercept:\", regressor.intercept_.item())"
   ]
  },
  {
   "cell_type": "markdown",
   "id": "c0695225",
   "metadata": {},
   "source": [
    "Q10. Now that you've fit the model on the training set, you can evaluate it on the test set. Call `predict` on the linear regression object and pass in the test set. Save the return value - these are all of the predicted values under the model for the test set. \n",
    "\n",
    "Compute some metrics to see how well this model fits the test data. Use `sklearn.metrics` to print out the MAE, MSE, RMSE, and R2 for the test set under this model. Remember that you have the actual y values for your test set, up in Q8.  "
   ]
  },
  {
   "cell_type": "code",
   "execution_count": 12,
   "id": "fe8b56fd",
   "metadata": {
    "scrolled": true
   },
   "outputs": [
    {
     "name": "stdout",
     "output_type": "stream",
     "text": [
      "MAE: 9264.15806838495\n",
      "MSE: 144143672.55637717\n",
      "RMSE: 12005.984864074133\n",
      "R2: 0.03405167225523653\n"
     ]
    }
   ],
   "source": [
    "import sklearn.metrics as metrics\n",
    "y_preds = regressor.predict(X_test)\n",
    "print(\"MAE:\", metrics.mean_absolute_error(y_test,y_preds))\n",
    "print(\"MSE:\", metrics.mean_squared_error(y_test,y_preds))\n",
    "print(\"RMSE:\", metrics.root_mean_squared_error(y_test,y_preds))\n",
    "print(\"R2:\", metrics.r2_score(y_test,y_preds))"
   ]
  },
  {
   "cell_type": "markdown",
   "id": "cb8c799f",
   "metadata": {},
   "source": [
    "Q11. Let's see what the best fit line looks like with the test data. Scatter-plot the test data (x_test, y_test). Then line-plot the model predictions for the test data (x_test, y_test_preds). "
   ]
  },
  {
   "cell_type": "code",
   "execution_count": 13,
   "id": "2b64976f",
   "metadata": {},
   "outputs": [
    {
     "data": {
      "text/plain": [
       "[<matplotlib.lines.Line2D at 0x18edbaabca0>]"
      ]
     },
     "execution_count": 13,
     "metadata": {},
     "output_type": "execute_result"
    },
    {
     "data": {
      "image/png": "[encoded data removed]",
      "text/plain": [
       "<Figure size 640x480 with 1 Axes>"
      ]
     },
     "metadata": {},
     "output_type": "display_data"
    }
   ],
   "source": [
    "plt.scatter(X_test,y_test)\n",
    "plt.plot(X_test,y_preds)"
   ]
  },
  {
   "cell_type": "markdown",
   "id": "308eb6bf",
   "metadata": {},
   "source": [
    "Q12. Now, go back up to your Q8, change the random_state to a different number, and re-run Q9, Q10, Q11. \n",
    "\n",
    "Answer as a comment: What happened and why?"
   ]
  },
  {
   "cell_type": "code",
   "execution_count": 14,
   "id": "82a24492",
   "metadata": {},
   "outputs": [],
   "source": [
    "# When we changed our random number it changed the composition of the train/test split. In our case going from 22 to 73\n",
    "# must have decreased the correlation between train and test, as ours performance deteriorated"
   ]
  },
  {
   "cell_type": "markdown",
   "id": "99d04b36",
   "metadata": {},
   "source": [
    "**Using cross-validation**\n",
    "\n",
    "Q13. We've discussed and seen the issues that can happen when we do a single hold-out test set. Cross validation is a better, more robust way to evaluate our models. Use `sklearn.model_selection.cross_val_score` to perform 5-fold cross validation on a simple linear regression model. \n",
    "\n",
    "You will pass the FULL dataset (x and y from before the train/test split in Q8) into `cross_val_score` which will automatically divide it into the number of folds you tell it to, fit a linear regression model to the training set for each fold, and test it on the test set for each fold. It will return a numpy array with the R2 on the test set for each fold. Average these R2 scores to print out the generalization estimate of the model.\n",
    "\n",
    "On average, after 5 trials with 5 different test sets, this is how well we think a linear regression of using `age` to predict `charges` will work. "
   ]
  },
  {
   "cell_type": "code",
   "execution_count": 15,
   "id": "c5b417e6",
   "metadata": {},
   "outputs": [
    {
     "name": "stdout",
     "output_type": "stream",
     "text": [
      "Avg R2: 0.08821241573294034\n"
     ]
    }
   ],
   "source": [
    "from sklearn.model_selection import cross_val_score\n",
    "score = cross_val_score(regressor,x,y=y,cv=5)\n",
    "print(\"Avg R2:\", score.mean())"
   ]
  },
  {
   "cell_type": "markdown",
   "id": "eed2a22c",
   "metadata": {},
   "source": [
    "#### Multiple Linear Regression\n",
    "**Fit a multiple linear regression model to predict `charges` from `age` and `smoker`.**"
   ]
  },
  {
   "cell_type": "markdown",
   "id": "2b3b2aa1",
   "metadata": {},
   "source": [
    "Q14. Now let's see if we can get a better model by including another feature.\n",
    "* From the one-hot-encoded dataframe (the result of Q3), grab both the `age` and `smoker_yes` columns. Call it something like x. \n",
    "* (No need to call a reshape this time, since it is multi-dimensional data now.)\n",
    "* You already have the y's.\n",
    "* Create a new `sklearn.linear_model.LinearRegression` object. (Or you can re-use the one you already have.)\n",
    "* Pass it all into a `sklearn.model_selection.cross_val_score` with a 5-fold CV.\n",
    "* Print out the average R2.\n",
    "\n",
    "Answer as a comment: What happens when you include `smoker_yes`?"
   ]
  },
  {
   "cell_type": "code",
   "execution_count": 16,
   "id": "6c1db535",
   "metadata": {},
   "outputs": [
    {
     "name": "stdout",
     "output_type": "stream",
     "text": [
      "Avg R2: 0.7191692504028052\n"
     ]
    }
   ],
   "source": [
    "x = np.concatenate([data[\"age\"].values.reshape(-1,1), data[\"smoker_yes\"].values.reshape(-1,1)],axis=1)\n",
    "y = y\n",
    "# x.shape\n",
    "multi_regressor = LinearRegression()\n",
    "score = cross_val_score(multi_regressor,x,y=y,cv=5)\n",
    "print(\"Avg R2:\", score.mean())\n",
    "\n",
    "# Including smoker_yes gives the model a feature with a strong correlation to the label (charges). As such the model\n",
    "# improves in performance significantly, as depicted by the increase in our R^2 value\n",
    "#(and noticibly just higher than the correlation of smoker_yes and charges)"
   ]
  },
  {
   "cell_type": "markdown",
   "id": "e7bdb411",
   "metadata": {},
   "source": [
    "Q15. Let's go one more step and see if including ALL of our features is even better at predicting the `charges` than using just `age` and `smoker`.\n",
    "\n",
    "* From the one-hot-encoded dataframe (the result of Q3), grab all the features, but NOT the target. Call it something like x.\n",
    "* (No need to call a reshape this time, since it is multi-dimensional data now.)\n",
    "* You already have the y's.\n",
    "* Create a new sklearn.linear_model.LinearRegression object. (Or you can re-use the one you already have.)\n",
    "* Pass it all into a sklearn.model_selection.cross_val_score with a 5-fold CV.\n",
    "* Print out the average R2 and the adjusted R2.\n",
    "\n",
    "Answer as a comment: What happens when you use ALL of the features?"
   ]
  },
  {
   "cell_type": "code",
   "execution_count": 17,
   "id": "4dbef0e5",
   "metadata": {
    "scrolled": true
   },
   "outputs": [
    {
     "name": "stdout",
     "output_type": "stream",
     "text": [
      "Avg R2: 0.7468616243473741\n"
     ]
    }
   ],
   "source": [
    "x = np.concatenate([data[\"age\"].values.reshape(-1,1), \n",
    "                data[\"smoker_yes\"].values.reshape(-1,1),\n",
    "                data[\"sex_male\"].values.reshape(-1,1),\n",
    "               data[\"bmi\"].values.reshape(-1,1),\n",
    "               data[\"children\"].values.reshape(-1,1),\n",
    "               data[\"northeast\"].values.reshape(-1,1),\n",
    "               data[\"northwest\"].values.reshape(-1,1),\n",
    "               data[\"southeast\"].values.reshape(-1,1),\n",
    "               data[\"southwest\"].values.reshape(-1,1)],axis=1)\n",
    "y = y\n",
    "multi_regressor = LinearRegression()\n",
    "score = cross_val_score(multi_regressor,x,y=y,cv=5)\n",
    "print(\"Avg R2:\", score.mean())\n",
    "\n",
    "# Including all attributes allows the model to use all dependant correlations which improves model performance significantly. \n",
    "# However, since most of the attributes have very little correlation to the label, model performance (meausred as R2)\n",
    "# only increases slightly when compared to smoker_yes and age"
   ]
  },
  {
   "cell_type": "markdown",
   "id": "f3c60daf",
   "metadata": {},
   "source": [
    "Q16. Build the final model on the entire dataset. \n",
    "* You should already have your x from the previous question (Q15).\n",
    "* You already have the y's.\n",
    "* Create a new `sklearn.linear_model.LinearRegression` object, or you can re-use the one you already have.\n",
    "* Call `fit` and pass in all the data (x, y).\n",
    "* Print out the coefficients and the intercept of the fitted model. The coefficients correspond to the the order in which the features are in the dataframe (x).\n",
    "\n",
    "This defines your multiple linear regression equation! "
   ]
  },
  {
   "cell_type": "code",
   "execution_count": 18,
   "id": "03cfb422",
   "metadata": {
    "scrolled": true
   },
   "outputs": [
    {
     "name": "stdout",
     "output_type": "stream",
     "text": [
      "Slope: 272.4922688284206\n",
      "Intercept: 2447.0411693149945\n"
     ]
    }
   ],
   "source": [
    "multi_regressor = LinearRegression()\n",
    "multi_regressor.fit(x, y)\n",
    "print(\"Slope:\", regressor.coef_.item())\n",
    "print(\"Intercept:\", regressor.intercept_.item())"
   ]
  },
  {
   "cell_type": "markdown",
   "id": "c08d42fc",
   "metadata": {},
   "source": [
    "## Part 2: K-Nearest Neighbors from scratch\n",
    "\n",
    "In this part of the assignment you'll implement the K-Nearest Neighbors (KNN) classification algorithm to classify patients as either having or not having diabetic retinopathy. For this task we'll be using the same Diabetic Retinopathy data set which was used in the previous assignment on decision trees. "
   ]
  },
  {
   "cell_type": "markdown",
   "id": "f04ffa20",
   "metadata": {},
   "source": [
    "You may use the following function to print a confusion matrix:"
   ]
  },
  {
   "cell_type": "code",
   "execution_count": 2,
   "id": "acc4cd14",
   "metadata": {},
   "outputs": [],
   "source": [
    "def print_confusion_matrix(TP, FN, FP, TN):\n",
    "    table_data = [[TP,FN],[FP,TN]]\n",
    "    df = pd.DataFrame(table_data, columns =['Predicted 1','Predicted 0'])\n",
    "    df = df.rename(index={0: 'Actual 1', 1: 'Actual 0'})\n",
    "    display(df)"
   ]
  },
  {
   "cell_type": "code",
   "execution_count": 3,
   "id": "4eb2b554",
   "metadata": {},
   "outputs": [],
   "source": [
    "# you may use these constants if you want\n",
    "LABEL_COLUMN = 19\n",
    "BINARY_COLUMNS = {0,1,18}"
   ]
  },
  {
   "cell_type": "markdown",
   "id": "7edf52cf",
   "metadata": {},
   "source": [
    "Q1. Normalize the data so that each feature value lies between `[0-1]`.\n",
    "\n",
    "In class, we talked about why scaling the data is critical to KNN. We also talked about how data scaling should be done *inside the cross validataion loop*. This means that the scaling parameters should be based on the **training set only**, in order to prevent data leakage. Then the test data will need to be scaled, using the parameters found on the **training** data.\n",
    "\n",
    "Fill in the function to take in a training dataset and a test dataset and normalize them correctly. Return the normalized datasets.\n",
    "\n",
    "Caution: Return NEW datasets that have been normalized - do not normalize the datasets in-place, so that this can be run numerous times without altering the original data or normalizing already normalized data.\n",
    "\n",
    "Hint: When using dataframes, you can do this without a loop!"
   ]
  },
  {
   "cell_type": "code",
   "execution_count": 4,
   "id": "f2521ea4",
   "metadata": {},
   "outputs": [],
   "source": [
    "def normalize_data(train, test):\n",
    "    train_norm = (((train - train.mean()) / train.std()) + 1) / 2\n",
    "    test_norm = (((test - test.mean()) / test.std()) + 1) / 2\n",
    "    return train_norm, test_norm"
   ]
  },
  {
   "cell_type": "markdown",
   "id": "acbcfd93",
   "metadata": {},
   "source": [
    "Q2. The distance calculation method is central to the KNN algorithm. In this assignment you'll be using the Euclidean distance. \n",
    "\n",
    "Implement a function that takes in one data point (as a list or a series), and the training data (as a dataframe), and calculates the Euclidian distance from the single data point to each of the data points in the training data.\n",
    "\n",
    "Add a column to the dataframe called `distance` that contains the Euclidian distance value from each row to the single data point, and return the dataframe with this new column filled in. \n",
    "\n",
    "\n",
    "Hint: For KNN, the distance calculations are the most time-consuming part of the algorithm. Even though computing Euclidian distance seems like a simple, and therefore quick, calculation, running it thousands of times, inside of a nested 5-fold cross-validation for example, can cause this algorithm to take a very long time to run, depending on your implementation. So you want to do this efficiently.\n",
    "\n",
    "Remember, you almost never need to loop a Dataframe! Pandas DataFrames have been specifically optimized for fast operations on large datasets, by [vectorizing](https://www.quantifisolutions.com/vectorization-part-2-why-and-what) calculations across all rows at once.\n",
    "\n",
    "If you use a DataFrame, you should not write a loop to calculate each of the Euclidian distances one at a time. Look at [this post](https://stackoverflow.com/questions/46908388/find-euclidean-distance-from-a-point-to-rows-in-pandas-dataframe?rq=1) for more info.\n",
    "\n",
    "Caution: Be careful not to use the label in your distance calculation."
   ]
  },
  {
   "cell_type": "code",
   "execution_count": 5,
   "id": "8568727f",
   "metadata": {},
   "outputs": [],
   "source": [
    "def get_distances(point, df):\n",
    "    distances = (df[np.arange(19)] - point).pow(2).sum(1).pow(0.5)\n",
    "    return distances"
   ]
  },
  {
   "cell_type": "markdown",
   "id": "3e91c9c3",
   "metadata": {},
   "source": [
    "Q3. Build your KNN classifier.\n",
    "\n",
    "This function takes in a training set (as a dataframe), a test set (as a dataframe), and a k to use, and classifies all data points in the test set, using the data in the training set and the given k.\n",
    "\n",
    "It should return the predicted labels for the test set as a list.\n",
    "\n",
    "Caution: Remember to normalize your data before doing distance calculations."
   ]
  },
  {
   "cell_type": "code",
   "execution_count": 6,
   "id": "6330af96",
   "metadata": {},
   "outputs": [],
   "source": [
    "def run_knn(train_set, test_set, k):\n",
    "    train_set,test_set = normalize_data(train_set,test_set)\n",
    "    \n",
    "    predicted_labels = []\n",
    "    for i in range(len(test_set)):\n",
    "        point = test_set.iloc[i]\n",
    "        distances = get_distances(point,train_set)\n",
    "        k_nearest_idxs = []\n",
    "        for j in range(k):\n",
    "            #print(\"getting idx_min\")\n",
    "            k_nearest_idxs.append(distances.idxmin())\n",
    "            distances.drop(k_nearest_idxs[-1])\n",
    "        #print(\"k nearest indexes: \",k_nearest_idxs)\n",
    "        nearest_neighbor_classes = train_set.loc[k_nearest_idxs][LABEL_COLUMN]\n",
    "        #print(\"nearest neighbor classes: \" ,nearest_neighbor_classes)\n",
    "        predicted_labels.append(nearest_neighbor_classes.mean().round())\n",
    "    return predicted_labels"
   ]
  },
  {
   "cell_type": "markdown",
   "id": "b80cc7f6",
   "metadata": {},
   "source": [
    "Q4. Find the best value of k for this data. \n",
    "\n",
    "Try k ranging from 1 to 10 (odds only). For each k value, use a 5-fold cross validation to evaluate the accuracy with that k. In each fold of CV, divide your data into a training set and a validation set. Print out the best value of k and the accuracy achieved with that value. Return the best value of k. If there is a tie for best k, use the lowest of the k values.\n",
    "\n",
    "Hint: This is the *inner* loop of a nested cross validation."
   ]
  },
  {
   "cell_type": "code",
   "execution_count": 92,
   "id": "70de520e",
   "metadata": {},
   "outputs": [],
   "source": [
    "from tqdm import tqdm\n",
    "def find_best_k(data):\n",
    "    split = (int)((len(data))/5)\n",
    "    #print(\"split: \",split)\n",
    "    best_k = -1\n",
    "    min_error = None\n",
    "    for i in range(5):\n",
    "#         print(\"i: \",i)\n",
    "#         print(\"training ranges: \",0,\"-\",(i*split),\" and \",(i+1)*split,\"-\",(len(data)))\n",
    "#         print(\"testing ranges: \",(i)*split,\"-\",((i+1)*split))\n",
    "        test_set = data.iloc[np.arange((i)*split,((i+1)*split))] \n",
    "        train1 = data.iloc[np.arange(0,(i*split))]\n",
    "        train2 = data.iloc[np.arange((i+1)*split,(len(data)))]\n",
    "        train_set = pd.concat([train1,train2],axis=0)\n",
    "     \n",
    "\n",
    "        for k in range(1,11):\n",
    "            labels = run_knn(train_set,test_set,k)\n",
    "            #replace error with an accuracy metric\n",
    "            error = (test_set[LABEL_COLUMN] - labels).abs().sum() / len(data)/5\n",
    "            accuracy = 1 - error\n",
    "            \n",
    "            if min_error == None or error < min_error :\n",
    "                min_error = error\n",
    "                best_accuracy = accuracy\n",
    "                best_k = k\n",
    "        print(\"Fold \",i+1,\" best K: \", best_k, \" accuracy: \", best_accuracy)\n",
    "    return best_k"
   ]
  },
  {
   "cell_type": "markdown",
   "id": "5da24b15",
   "metadata": {},
   "source": [
    "Q5. Now measure the accuracy of your classifier using 5-fold cross validation. \n",
    "\n",
    "In each fold of this CV, divide your data into a training set and a test set. The training set should get sent through your code for Q4, resulting in a value of k to use. Using that k, calculate an accuracy on the test set. You will average the accuracy over all 5 folds to obtain the final accuracy measurement. \n",
    "\n",
    "Print the accuracy, the confusion matrix, and the precision and recall for class label 1 (patients that have been diagnosed with the disease)."
   ]
  },
  {
   "cell_type": "code",
   "execution_count": null,
   "id": "b02519f3",
   "metadata": {},
   "outputs": [],
   "source": []
  },
  {
   "cell_type": "code",
   "execution_count": 91,
   "id": "76cf8fd1",
   "metadata": {},
   "outputs": [
    {
     "name": "stdout",
     "output_type": "stream",
     "text": [
      "   0   1   2   3   4   5   6   7          8          9          10        11  \\\n",
      "0   1   1  22  22  22  19  18  14  49.895756  17.775994   5.270920  0.771761   \n",
      "1   1   1  24  24  22  18  16  13  57.709936  23.799994   3.325423  0.234185   \n",
      "2   1   1  62  60  59  54  47  33  55.831441  27.993933  12.687485  4.852282   \n",
      "3   1   1  55  53  53  50  43  31  40.467228  18.445954   9.118901  3.079428   \n",
      "4   1   1  44  44  44  41  39  27  18.026254   8.570709   0.410381  0.000000   \n",
      "\n",
      "         12        13        14        15        16        17  18  19  \n",
      "0  0.018632  0.006864  0.003923  0.003923  0.486903  0.100025   1   0  \n",
      "1  0.003903  0.003903  0.003903  0.003903  0.520908  0.144414   0   0  \n",
      "2  1.393889  0.373252  0.041817  0.007744  0.530904  0.128548   0   1  \n",
      "3  0.840261  0.272434  0.007653  0.001531  0.483284  0.114790   0   0  \n",
      "4  0.000000  0.000000  0.000000  0.000000  0.475935  0.123572   0   1  \n",
      "Fold  1  best K:  1  accuracy:  0.985\n",
      "Fold  2  best K:  1  accuracy:  0.985\n",
      "Fold  3  best K:  1  accuracy:  0.986304347826087\n",
      "Fold  4  best K:  1  accuracy:  0.986304347826087\n",
      "Fold  5  best K:  1  accuracy:  0.986304347826087\n",
      "Fold  1  best K:  1  accuracy:  0.9843478260869565\n",
      "Fold  2  best K:  1  accuracy:  0.9860869565217392\n",
      "Fold  3  best K:  1  accuracy:  0.9860869565217392\n",
      "Fold  4  best K:  1  accuracy:  0.9860869565217392\n",
      "Fold  5  best K:  1  accuracy:  0.9860869565217392\n",
      "Fold  1  best K:  1  accuracy:  0.9836956521739131\n",
      "Fold  2  best K:  1  accuracy:  0.9854347826086957\n",
      "Fold  3  best K:  1  accuracy:  0.9854347826086957\n",
      "Fold  4  best K:  1  accuracy:  0.9854347826086957\n",
      "Fold  5  best K:  1  accuracy:  0.9854347826086957\n",
      "Fold  1  best K:  1  accuracy:  0.9847826086956522\n",
      "Fold  2  best K:  1  accuracy:  0.985\n",
      "Fold  3  best K:  1  accuracy:  0.985\n",
      "Fold  4  best K:  1  accuracy:  0.985\n",
      "Fold  5  best K:  1  accuracy:  0.985\n",
      "Fold  1  best K:  1  accuracy:  0.9841304347826086\n",
      "Fold  2  best K:  1  accuracy:  0.9845652173913043\n",
      "Fold  3  best K:  1  accuracy:  0.9845652173913043\n",
      "Fold  4  best K:  1  accuracy:  0.9856521739130435\n",
      "Fold  5  best K:  1  accuracy:  0.9856521739130435\n",
      "\n",
      "Total time (seconds): 259.23724341392517\n"
     ]
    },
    {
     "data": {
      "text/html": [
       "<div>\n",
       "<style scoped>\n",
       "    .dataframe tbody tr th:only-of-type {\n",
       "        vertical-align: middle;\n",
       "    }\n",
       "\n",
       "    .dataframe tbody tr th {\n",
       "        vertical-align: top;\n",
       "    }\n",
       "\n",
       "    .dataframe thead th {\n",
       "        text-align: right;\n",
       "    }\n",
       "</style>\n",
       "<table border=\"1\" class=\"dataframe\">\n",
       "  <thead>\n",
       "    <tr style=\"text-align: right;\">\n",
       "      <th></th>\n",
       "      <th>Predicted 1</th>\n",
       "      <th>Predicted 0</th>\n",
       "    </tr>\n",
       "  </thead>\n",
       "  <tbody>\n",
       "    <tr>\n",
       "      <th>Actual 1</th>\n",
       "      <td>364</td>\n",
       "      <td>0</td>\n",
       "    </tr>\n",
       "    <tr>\n",
       "      <th>Actual 0</th>\n",
       "      <td>247</td>\n",
       "      <td>0</td>\n",
       "    </tr>\n",
       "  </tbody>\n",
       "</table>\n",
       "</div>"
      ],
      "text/plain": [
       "          Predicted 1  Predicted 0\n",
       "Actual 1          364            0\n",
       "Actual 0          247            0"
      ]
     },
     "metadata": {},
     "output_type": "display_data"
    },
    {
     "name": "stdout",
     "output_type": "stream",
     "text": [
      "Accuracy:  0.5957446808510638\n",
      "Precision:  0.5957446808510638\n",
      "Recall:  1.0\n"
     ]
    },
    {
     "data": {
      "text/html": [
       "<div>\n",
       "<style scoped>\n",
       "    .dataframe tbody tr th:only-of-type {\n",
       "        vertical-align: middle;\n",
       "    }\n",
       "\n",
       "    .dataframe tbody tr th {\n",
       "        vertical-align: top;\n",
       "    }\n",
       "\n",
       "    .dataframe thead th {\n",
       "        text-align: right;\n",
       "    }\n",
       "</style>\n",
       "<table border=\"1\" class=\"dataframe\">\n",
       "  <thead>\n",
       "    <tr style=\"text-align: right;\">\n",
       "      <th></th>\n",
       "      <th>0</th>\n",
       "      <th>1</th>\n",
       "      <th>2</th>\n",
       "      <th>3</th>\n",
       "      <th>4</th>\n",
       "      <th>5</th>\n",
       "      <th>6</th>\n",
       "      <th>7</th>\n",
       "      <th>8</th>\n",
       "      <th>9</th>\n",
       "      <th>10</th>\n",
       "      <th>11</th>\n",
       "      <th>12</th>\n",
       "      <th>13</th>\n",
       "      <th>14</th>\n",
       "      <th>15</th>\n",
       "      <th>16</th>\n",
       "      <th>17</th>\n",
       "      <th>18</th>\n",
       "      <th>19</th>\n",
       "    </tr>\n",
       "  </thead>\n",
       "  <tbody>\n",
       "    <tr>\n",
       "      <th>0</th>\n",
       "      <td>1</td>\n",
       "      <td>1</td>\n",
       "      <td>22</td>\n",
       "      <td>22</td>\n",
       "      <td>22</td>\n",
       "      <td>19</td>\n",
       "      <td>18</td>\n",
       "      <td>14</td>\n",
       "      <td>49.895756</td>\n",
       "      <td>17.775994</td>\n",
       "      <td>5.270920</td>\n",
       "      <td>0.771761</td>\n",
       "      <td>0.018632</td>\n",
       "      <td>0.006864</td>\n",
       "      <td>0.003923</td>\n",
       "      <td>0.003923</td>\n",
       "      <td>0.486903</td>\n",
       "      <td>0.100025</td>\n",
       "      <td>1</td>\n",
       "      <td>0</td>\n",
       "    </tr>\n",
       "    <tr>\n",
       "      <th>1</th>\n",
       "      <td>1</td>\n",
       "      <td>1</td>\n",
       "      <td>24</td>\n",
       "      <td>24</td>\n",
       "      <td>22</td>\n",
       "      <td>18</td>\n",
       "      <td>16</td>\n",
       "      <td>13</td>\n",
       "      <td>57.709936</td>\n",
       "      <td>23.799994</td>\n",
       "      <td>3.325423</td>\n",
       "      <td>0.234185</td>\n",
       "      <td>0.003903</td>\n",
       "      <td>0.003903</td>\n",
       "      <td>0.003903</td>\n",
       "      <td>0.003903</td>\n",
       "      <td>0.520908</td>\n",
       "      <td>0.144414</td>\n",
       "      <td>0</td>\n",
       "      <td>0</td>\n",
       "    </tr>\n",
       "    <tr>\n",
       "      <th>2</th>\n",
       "      <td>1</td>\n",
       "      <td>1</td>\n",
       "      <td>62</td>\n",
       "      <td>60</td>\n",
       "      <td>59</td>\n",
       "      <td>54</td>\n",
       "      <td>47</td>\n",
       "      <td>33</td>\n",
       "      <td>55.831441</td>\n",
       "      <td>27.993933</td>\n",
       "      <td>12.687485</td>\n",
       "      <td>4.852282</td>\n",
       "      <td>1.393889</td>\n",
       "      <td>0.373252</td>\n",
       "      <td>0.041817</td>\n",
       "      <td>0.007744</td>\n",
       "      <td>0.530904</td>\n",
       "      <td>0.128548</td>\n",
       "      <td>0</td>\n",
       "      <td>1</td>\n",
       "    </tr>\n",
       "    <tr>\n",
       "      <th>3</th>\n",
       "      <td>1</td>\n",
       "      <td>1</td>\n",
       "      <td>55</td>\n",
       "      <td>53</td>\n",
       "      <td>53</td>\n",
       "      <td>50</td>\n",
       "      <td>43</td>\n",
       "      <td>31</td>\n",
       "      <td>40.467228</td>\n",
       "      <td>18.445954</td>\n",
       "      <td>9.118901</td>\n",
       "      <td>3.079428</td>\n",
       "      <td>0.840261</td>\n",
       "      <td>0.272434</td>\n",
       "      <td>0.007653</td>\n",
       "      <td>0.001531</td>\n",
       "      <td>0.483284</td>\n",
       "      <td>0.114790</td>\n",
       "      <td>0</td>\n",
       "      <td>0</td>\n",
       "    </tr>\n",
       "    <tr>\n",
       "      <th>4</th>\n",
       "      <td>1</td>\n",
       "      <td>1</td>\n",
       "      <td>44</td>\n",
       "      <td>44</td>\n",
       "      <td>44</td>\n",
       "      <td>41</td>\n",
       "      <td>39</td>\n",
       "      <td>27</td>\n",
       "      <td>18.026254</td>\n",
       "      <td>8.570709</td>\n",
       "      <td>0.410381</td>\n",
       "      <td>0.000000</td>\n",
       "      <td>0.000000</td>\n",
       "      <td>0.000000</td>\n",
       "      <td>0.000000</td>\n",
       "      <td>0.000000</td>\n",
       "      <td>0.475935</td>\n",
       "      <td>0.123572</td>\n",
       "      <td>0</td>\n",
       "      <td>1</td>\n",
       "    </tr>\n",
       "  </tbody>\n",
       "</table>\n",
       "</div>"
      ],
      "text/plain": [
       "   0   1   2   3   4   5   6   7          8          9          10        11  \\\n",
       "0   1   1  22  22  22  19  18  14  49.895756  17.775994   5.270920  0.771761   \n",
       "1   1   1  24  24  22  18  16  13  57.709936  23.799994   3.325423  0.234185   \n",
       "2   1   1  62  60  59  54  47  33  55.831441  27.993933  12.687485  4.852282   \n",
       "3   1   1  55  53  53  50  43  31  40.467228  18.445954   9.118901  3.079428   \n",
       "4   1   1  44  44  44  41  39  27  18.026254   8.570709   0.410381  0.000000   \n",
       "\n",
       "         12        13        14        15        16        17  18  19  \n",
       "0  0.018632  0.006864  0.003923  0.003923  0.486903  0.100025   1   0  \n",
       "1  0.003903  0.003903  0.003903  0.003903  0.520908  0.144414   0   0  \n",
       "2  1.393889  0.373252  0.041817  0.007744  0.530904  0.128548   0   1  \n",
       "3  0.840261  0.272434  0.007653  0.001531  0.483284  0.114790   0   0  \n",
       "4  0.000000  0.000000  0.000000  0.000000  0.475935  0.123572   0   1  "
      ]
     },
     "execution_count": 91,
     "metadata": {},
     "output_type": "execute_result"
    }
   ],
   "source": [
    "import time\n",
    "\n",
    "def get_info(data,labels):\n",
    "    TP,TN,FP,FN = 0,0,0,0\n",
    "#     print(\"df shape 0: \",data.shape[0])\n",
    "#     print(\"labels len: \",len(labels))\n",
    "    assert data.shape[0] == len(labels)\n",
    "    for i in range(len(labels)):\n",
    "        if data.iloc[i][19] == labels[i]:\n",
    "            if labels[i] == 1:\n",
    "                TP += 1\n",
    "            else:\n",
    "                TN += 1\n",
    "        else:\n",
    "            if labels[i] == 1:\n",
    "                FN += 1\n",
    "            else:\n",
    "                FP += 1\n",
    "                \n",
    "    return TP, TN, FP, FN\n",
    "\n",
    "\n",
    "def run_CV(filename):\n",
    "    # read in data\n",
    "        \n",
    "    data = pd.read_csv(filename, header = None)\n",
    "#     data = data.iloc[np.arange(50)]\n",
    "#     print(data.head())\n",
    "    split = (int)((len(data))/5)\n",
    "    start_time = time.time()\n",
    "    TP,TN,FP,FN = 0,0,0,0\n",
    "\n",
    "    for i in range(5):\n",
    "#         print(\"training ranges: \",0,\"-\",(i*split),\" and \",(i+1)*split,\"-\",(len(data)))\n",
    "#         print(\"testing ranges: \",(i)*split,\"-\",((i+1)*split))\n",
    "        test_set = data.iloc[np.arange((i)*split,((i+1)*split))] \n",
    "        train1 = data.iloc[np.arange(0,(i*split))]\n",
    "        train2 = data.iloc[np.arange((i+1)*split,(len(data)))]\n",
    "        train = pd.concat([train1,train2],axis=0)\n",
    "        \n",
    "        best_k = find_best_k(train)\n",
    "        labels = run_knn(train,test_set,best_k)\n",
    "        error = (test_set[LABEL_COLUMN] - labels).abs().sum() / len(data)/5\n",
    "        labels = np.array(labels)[test_set[19] == 1]\n",
    "        \n",
    "        \n",
    "        dTP,dTN,dFP,dFN = get_info(test_set.loc[test_set[19]==1],labels)\n",
    "        TP += dTP\n",
    "        TN += dTN\n",
    "        FP += dFP\n",
    "        FN += dFN\n",
    "        \n",
    "        \n",
    "\n",
    "        \n",
    "\n",
    "    end_time = time.time()\n",
    "    print('\\nTotal time (seconds):', end_time - start_time)\n",
    "    accuracy = (TP + TN) / (TP + TN + FP + FN)\n",
    "    print_confusion_matrix(TP, FN, FP, TN)\n",
    "    recall = TP / (TP + FN)\n",
    "    precision = TP / (TP + FP)\n",
    "    print(\"Accuracy: \", accuracy)\n",
    "    print(\"Precision: \", precision)\n",
    "    print(\"Recall: \", recall)\n",
    "\n",
    "    return data\n",
    "\n",
    "df = run_CV('messidor_features.txt')\n",
    "df.head()"
   ]
  },
  {
   "cell_type": "code",
   "execution_count": 80,
   "id": "948731f7",
   "metadata": {},
   "outputs": [
    {
     "data": {
      "text/plain": [
       "numpy.float64"
      ]
     },
     "execution_count": 80,
     "metadata": {},
     "output_type": "execute_result"
    }
   ],
   "source": [
    "type(df.iloc[1][19])"
   ]
  }
 ],
 "metadata": {
  "kernelspec": {
   "display_name": "Python 3 (ipykernel)",
   "language": "python",
   "name": "python3"
  },
  "language_info": {
   "codemirror_mode": {
    "name": "ipython",
    "version": 3
   },
   "file_extension": ".py",
   "mimetype": "text/x-python",
   "name": "python",
   "nbconvert_exporter": "python",
   "pygments_lexer": "ipython3",
   "version": "3.8.19"
  }
 },
 "nbformat": 4,
 "nbformat_minor": 5
}
