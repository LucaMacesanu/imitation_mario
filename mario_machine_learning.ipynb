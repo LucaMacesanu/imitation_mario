{
 "cells": [
  {
   "cell_type": "code",
   "execution_count": 2,
   "id": "3319745f-b1c0-4218-9269-52e79f8461dd",
   "metadata": {},
   "outputs": [],
   "source": [
    "#Group Number: 27\n",
    "#Group Members: Luca Macesanu, Samik Singh, Carson Ngyuen, Mathew Huang"
   ]
  },
  {
   "cell_type": "markdown",
   "id": "61887bd6-01fc-4527-a964-ef48e9a1a6c6",
   "metadata": {},
   "source": [
    "# Problem Statement\n",
    "\n",
    "For our project, we wanted to create a model to play a videogame. During the process, we first considered playing pokemon. However, we were unable to find a robust dataset to use. Therefore, we ended up moving forward with the gym retro library where we were able to load games and create our own dataset. The game we wanted to choose was Mortal Kombat. However, that didn't work as we were unable to get it to run. Therefore, we settled on Super Mario Bros. Therefore, we decided to create models that would be able to complete world 1-1 of Super Mario Bros.\n",
    "\n",
    "\n",
    "We first collected data. Then we moved on to using classification based approaches similar to what we learned in class. Lastly, we used Proximal Policy Optimization to expand upon our knowledge. \n"
   ]
  },
  {
   "cell_type": "markdown",
   "id": "99993be6-415c-4842-8c57-e7a5494846b8",
   "metadata": {},
   "source": [
    "# Data Collection\n",
    "\n",
    "\n",
    "Since there were no existing datasets for our project, we decided to collect our own data. We collected a total of 128942 state action pairs in order to treat gameplay as a classification problem in order to predict how a human would play the game. \n",
    "\n",
    "\n",
    "Since we collected the data, data cleaning was more minimal. We remapped our action spaces as there were many action outputs that matched the state of the game. By consolidating these actions, we reduced the overall spread of our data. We also scaled the state space by normalizing pixel values making it easier to process as well. Lastly, we manually combed through the files removing corrupted or improperly recorded data\n",
    "\n",
    "<histogram>\n",
    "\n",
    "<np.mean the states>\n"
   ]
  },
  {
   "cell_type": "code",
   "execution_count": 12,
   "id": "a205298f-5ec3-42a9-8112-b4d04459bdda",
   "metadata": {},
   "outputs": [],
   "source": [
    "#imports\n",
    "import matplotlib.pyplot as plt\n",
    "\n",
    "# Custom imports\n",
    "from playback import get_state_action_pairs"
   ]
  },
  {
   "cell_type": "code",
   "execution_count": 13,
   "id": "b6e364dc-8c03-45c3-90af-32511e2a0c7b",
   "metadata": {},
   "outputs": [],
   "source": [
    "def eliminate_unnecessary_action(data):\n",
    "    action_space = data\n",
    "    \n",
    "    #This might not be necessary but im on a time crunch (Theres 100% a better way to do this)\n",
    "    action_map = {\n",
    "        64: 0,\n",
    "        65: 1,\n",
    "        66: 2,\n",
    "        67: 3,\n",
    "        128: 4,\n",
    "        129: 5,\n",
    "        130: 6,\n",
    "        131: 7\n",
    "    }\n",
    "    \n",
    "    # Map original action values to new values\n",
    "    action_space = np.array([action_map.get(action, 0) for action in action_space])\n",
    "    #print(action_space.size())\n",
    "    \n",
    "    return action_space"
   ]
  },
  {
   "cell_type": "code",
   "execution_count": 14,
   "id": "8e86c9e4-388b-4587-93ca-0943e0fcd54d",
   "metadata": {},
   "outputs": [
    {
     "name": "stdout",
     "output_type": "stream",
     "text": [
      "Adding  imitation_mario_rec_carson_032124_145619.npz\n",
      "Adding  imitation_mario_rec_carson_032124_145652.npz\n",
      "Adding  imitation_mario_rec_carson_032124_143622.npz\n"
     ]
    },
    {
     "data": {
      "text/plain": [
       "<BarContainer object of 8 artists>"
      ]
     },
     "execution_count": 14,
     "metadata": {},
     "output_type": "execute_result"
    },
    {
     "data": {
      "image/png": "[encoded data removed]",
      "text/plain": [
       "<Figure size 640x480 with 1 Axes>"
      ]
     },
     "metadata": {},
     "output_type": "display_data"
    }
   ],
   "source": [
    "# generate bar chart of action frequencies\n",
    "rec_state_history, rec_action_history = get_state_action_pairs(3)\n",
    "#load data\n",
    "rec_action_history = eliminate_unnecessary_action(rec_action_history)\n",
    "\n",
    "unique_vals, frequencies = np. unique(rec_action_history, return_counts = True)\n",
    "plt.bar(unique_vals, frequencies)"
   ]
  },
  {
   "cell_type": "code",
   "execution_count": 15,
   "id": "d1dc066d-3d80-4241-8d37-119f12ec3805",
   "metadata": {},
   "outputs": [],
   "source": [
    "def average_images(images):\n",
    "    average_image = np.mean(images, axis=0)\n",
    "    plt.imshow(average_image, cmap = 'gray')\n",
    "    plt. title('Average Image')\n",
    "    plt.axis('off')\n",
    "    plt.show()"
   ]
  },
  {
   "cell_type": "code",
   "execution_count": 16,
   "id": "8d62e5e8-dd96-4105-9d2c-0d06f7be7823",
   "metadata": {},
   "outputs": [
    {
     "data": {
      "image/png": "[encoded data removed]",
      "text/plain": [
       "<Figure size 640x480 with 1 Axes>"
      ]
     },
     "metadata": {},
     "output_type": "display_data"
    }
   ],
   "source": [
    "#np mean of states\n",
    "average_images(rec_state_history)"
   ]
  },
  {
   "cell_type": "markdown",
   "id": "f00380ee-e1f5-4933-b477-aa22beae37e9",
   "metadata": {},
   "source": [
    "# Classification Based Approaches"
   ]
  },
  {
   "cell_type": "markdown",
   "id": "778c7809-0a65-4767-a59e-24a139de2bd8",
   "metadata": {},
   "source": [
    "## 1. KNN\n",
    "\n",
    "We used KNN as an example as to why our agent should not use classification methods using state-action pairs to solve the issue. One issue is KNN's susceptibility to noise. Since there are so many permutations to how a scene could be set depending on where the enemies are relative to the scene, it is hard for us to fully clean our data of noises as it is a large part of the game. \n",
    "\n",
    "Another issue for KNN is the curse of dimensionality. This dataset is composed of two numpy arrays: a 3D array that describes the environment and a 1D array that describes the action taken. In many cases in training, our players did drastically different actions at the same observation or the same action at a slightly different observation. Therefore, KNN has difficulties in finding similarities between records. This resulted in our KNN model taking vast amounts of time for training off of a singular isolated run and thus not finishing. We included the code as a large comment since it wil be unable to run in a realistic timeframe due to the sheer size of our data, even when drastically reducing the amount of data used. "
   ]
  },
  {
   "cell_type": "code",
   "execution_count": 8,
   "id": "36b321f5-20c2-4598-b877-8324f1296921",
   "metadata": {},
   "outputs": [
    {
     "data": {
      "text/plain": [
       "'\\nimport gym\\nimport numpy as np\\nimport matplotlib.pyplot as plt\\nfrom sklearn.model_selection import train_test_split, GridSearchCV, cross_val_score\\nimport pickle\\nfrom datetime import datetime\\nfrom sklearn.neighbors import KNeighborsClassifier\\nfrom tqdm import tqdm\\nfrom gym.wrappers import GrayScaleObservation\\nimport os\\nimport sklearn as sk\\nfrom sklearn.pipeline import Pipeline\\n\\n# Custom imports assuming these are correctly implemented\\nfrom playback import get_state_action_pairs\\n\\nclass knn:\\n    def __init__(self, model = None, n_n= 10):\\n        self.done = False\\n        self.name = \"KNN\"\\n\\n        #generates a pipeline that scales and decreases dimensions. \\n        if model is None:\\n            pline = Pipeline([(\\'scaler\\', sk.preprocessing.StandardScaler()), (\\'pca\\', sk.decomposition.PCA()), \\n                  (\\'knn\\', KNeighborsClassifier(n_neighbors= n_n))])\\n            self.model = pline\\n        else:\\n            self.model = model\\n\\n    def get_action(self, state):\\n        state = state.flatten().reshape(1, -1)\\n        return self.model.predict(state)\\n\\n    def train(self, state_history, action_history):\\n        self.model.fit(state_history, action_history)\\n        pickle.dump(self.model, open(\"knn.p\", \"wb\"))\\n        print(\"Training Complete.\")\\n\\n    def evaluate_and_tune(self, features, labels):\\n        parameters = {\\n             \\'n_neighbors\\': [None, 5, 10, 15]\\n        }\\n        cv = 5\\n        grid_search = GridSearchCV(self.model, parameters, cv=cv, scoring=\\'accuracy\\', return_train_score=True)\\n        grid_search.fit(features, labels)\\n\\n        print(\\'Best Parameters:\\', grid_search.best_params_)\\n        return grid_search\\n\\ndef plot_accuracy(grid_search):\\n    results = grid_search.cv_results_\\n    plt.figure(figsize=(10, 5))\\n    plt.title(\"Training vs Validation Accuracy\")\\n    plt.plot(results[\\'mean_train_score\\'], label=\\'Train Accuracy\\')\\n    plt.plot(results[\\'mean_test_score\\'], label=\\'Validation Accuracy\\')\\n    plt.xlabel(\\'Parameter Combination\\')\\n    plt.ylabel(\\'Accuracy\\')\\n    plt.legend()\\n    plt.show()\\n\\ndef run_agent(agent):\\n    env = GrayScaleObservation(gym.make(\"SuperMarioBros-v3\"))\\n    env.reset()\\n    done = False\\n    state_history = []\\n    action_history = []\\n\\n    with tqdm(total=100) as pbar:\\n        while not done:\\n            state, reward, done, _ = env.step(0)  # Example using a constant action\\n            action = agent.get_action(state)\\n            state_history.append(state)\\n            action_history.append(action)\\n            pbar.update(1)\\n\\n    env.close()\\n\\n\\n\\nif __name__ == \"__main__\":\\n    record_path = \"recordings\"\\n    \\n    if not os.path.isdir(record_path):\\n        print(f\"Error: {record_path} is not a valid directory.\")\\n    else:\\n        rec_state_history, rec_action_history = get_state_action_pairs(2)\\n\\n        if rec_state_history.ndim == 3:\\n            nsamples, height, width = rec_state_history.shape\\n            rec_state_history = rec_state_history.reshape((nsamples, height * width))\\n\\n        print(\"Reshaped state history shape:\", rec_state_history.shape)\\n\\n        train_states, test_states, train_actions, test_actions = train_test_split(\\n            rec_state_history, rec_action_history, test_size=0.2, random_state=42)\\n\\n        agent = knn()\\n        agent.train(train_states, train_actions)\\n\\n        grid_search = agent.evaluate_and_tune(train_states, train_actions)\\n        plot_accuracy(grid_search)\\n\\n        run_agent(agent)\\n\\n'"
      ]
     },
     "execution_count": 8,
     "metadata": {},
     "output_type": "execute_result"
    }
   ],
   "source": [
    "'''\n",
    "import gym\n",
    "import numpy as np\n",
    "import matplotlib.pyplot as plt\n",
    "from sklearn.model_selection import train_test_split, GridSearchCV, cross_val_score\n",
    "import pickle\n",
    "from datetime import datetime\n",
    "from sklearn.neighbors import KNeighborsClassifier\n",
    "from tqdm import tqdm\n",
    "from gym.wrappers import GrayScaleObservation\n",
    "import os\n",
    "import sklearn as sk\n",
    "from sklearn.pipeline import Pipeline\n",
    "\n",
    "# Custom imports assuming these are correctly implemented\n",
    "from playback import get_state_action_pairs\n",
    "\n",
    "class knn:\n",
    "    def __init__(self, model = None, n_n= 10):\n",
    "        self.done = False\n",
    "        self.name = \"KNN\"\n",
    "\n",
    "        #generates a pipeline that scales and decreases dimensions. \n",
    "        if model is None:\n",
    "            pline = Pipeline([('scaler', sk.preprocessing.StandardScaler()), ('pca', sk.decomposition.PCA()), \n",
    "                  ('knn', KNeighborsClassifier(n_neighbors= n_n))])\n",
    "            self.model = pline\n",
    "        else:\n",
    "            self.model = model\n",
    "\n",
    "    def get_action(self, state):\n",
    "        state = state.flatten().reshape(1, -1)\n",
    "        return self.model.predict(state)\n",
    "\n",
    "    def train(self, state_history, action_history):\n",
    "        self.model.fit(state_history, action_history)\n",
    "        pickle.dump(self.model, open(\"knn.p\", \"wb\"))\n",
    "        print(\"Training Complete.\")\n",
    "\n",
    "    def evaluate_and_tune(self, features, labels):\n",
    "        parameters = {\n",
    "             'n_neighbors': [None, 5, 10, 15]\n",
    "        }\n",
    "        cv = 5\n",
    "        grid_search = GridSearchCV(self.model, parameters, cv=cv, scoring='accuracy', return_train_score=True)\n",
    "        grid_search.fit(features, labels)\n",
    "\n",
    "        print('Best Parameters:', grid_search.best_params_)\n",
    "        return grid_search\n",
    "\n",
    "def plot_accuracy(grid_search):\n",
    "    results = grid_search.cv_results_\n",
    "    plt.figure(figsize=(10, 5))\n",
    "    plt.title(\"Training vs Validation Accuracy\")\n",
    "    plt.plot(results['mean_train_score'], label='Train Accuracy')\n",
    "    plt.plot(results['mean_test_score'], label='Validation Accuracy')\n",
    "    plt.xlabel('Parameter Combination')\n",
    "    plt.ylabel('Accuracy')\n",
    "    plt.legend()\n",
    "    plt.show()\n",
    "\n",
    "def run_agent(agent):\n",
    "    env = GrayScaleObservation(gym.make(\"SuperMarioBros-v3\"))\n",
    "    env.reset()\n",
    "    done = False\n",
    "    state_history = []\n",
    "    action_history = []\n",
    "\n",
    "    with tqdm(total=100) as pbar:\n",
    "        while not done:\n",
    "            state, reward, done, _ = env.step(0)  # Example using a constant action\n",
    "            action = agent.get_action(state)\n",
    "            state_history.append(state)\n",
    "            action_history.append(action)\n",
    "            pbar.update(1)\n",
    "\n",
    "    env.close()\n",
    "\n",
    "\n",
    "\n",
    "if __name__ == \"__main__\":\n",
    "    record_path = \"recordings\"\n",
    "    \n",
    "    if not os.path.isdir(record_path):\n",
    "        print(f\"Error: {record_path} is not a valid directory.\")\n",
    "    else:\n",
    "        rec_state_history, rec_action_history = get_state_action_pairs(2)\n",
    "\n",
    "        if rec_state_history.ndim == 3:\n",
    "            nsamples, height, width = rec_state_history.shape\n",
    "            rec_state_history = rec_state_history.reshape((nsamples, height * width))\n",
    "\n",
    "        print(\"Reshaped state history shape:\", rec_state_history.shape)\n",
    "\n",
    "        train_states, test_states, train_actions, test_actions = train_test_split(\n",
    "            rec_state_history, rec_action_history, test_size=0.2, random_state=42)\n",
    "\n",
    "        agent = knn()\n",
    "        agent.train(train_states, train_actions)\n",
    "\n",
    "        grid_search = agent.evaluate_and_tune(train_states, train_actions)\n",
    "        plot_accuracy(grid_search)\n",
    "\n",
    "        run_agent(agent)\n",
    "\n",
    "'''"
   ]
  },
  {
   "cell_type": "markdown",
   "id": "cc1fbec4-e486-4699-8fec-79df63948353",
   "metadata": {},
   "source": [
    "# 2. Decision Trees\n",
    "We also used a decision tree to further demonstrate how classification using state-action pairs was inappropriate for our problem. Our data is filled with many occurrences of the same observation but slightly different actions in reaction to the same environment. \n",
    "In one run, the same person could jump at a frame earlier and thus not jump at the consequent frame or the same person could jump\n",
    "at the consequent frame and not do anything in the frame prior. This makes it difficult for the agent to draw similarities\n",
    "between runs, making it hard for the tree to fit an action to a specific state. "
   ]
  },
  {
   "cell_type": "code",
   "execution_count": 17,
   "id": "5b910ab2-1e6f-4c90-87d1-75cc847911e6",
   "metadata": {},
   "outputs": [],
   "source": [
    "#imports for decision trees\n",
    "import gym\n",
    "import numpy as np\n",
    "import matplotlib.pyplot as plt\n",
    "from sklearn.model_selection import train_test_split, GridSearchCV, cross_val_score\n",
    "import pickle\n",
    "from datetime import datetime\n",
    "from tqdm import tqdm\n",
    "from gym.wrappers import GrayScaleObservation\n",
    "import os\n",
    "from sklearn import tree\n",
    "# Custom imports\n",
    "from playback import get_state_action_pairs"
   ]
  },
  {
   "cell_type": "code",
   "execution_count": 18,
   "id": "1c3193e4-9348-4c2c-9a4b-c1dec751aec3",
   "metadata": {},
   "outputs": [],
   "source": [
    "# Decision Tree Class\n",
    "class DecisionTree:\n",
    "    def __init__(self, model = None, max_d = 10, dummy = False):\n",
    "        self.done = False\n",
    "        self.name = \"decision_tree\"\n",
    "        if model is None:\n",
    "            self.model = tree.DecisionTreeClassifier(criterion='entropy', max_depth=max_d)\n",
    "        else:\n",
    "            self.model = model\n",
    "\n",
    "    def get_action(self, state):\n",
    "        state = state.flatten().reshape(1, -1)\n",
    "        return self.model.predict(state)\n",
    "\n",
    "    def train(self, state_history, action_history):\n",
    "        self.model.fit(state_history, action_history)\n",
    "        pickle.dump(self.model, open(\"decision_tree_model.p\", \"wb\"))\n",
    "        print(\"Training Complete.\")\n",
    "\n",
    "    def evaluate_and_tune(self, features, labels):\n",
    "        parameters = {\n",
    "            'criterion': ['gini', 'entropy', 'log_loss'],\n",
    "            'max_depth': [None, 10, 20, 30]\n",
    "        }\n",
    "        cv = 5\n",
    "        grid_search = GridSearchCV(self.model, parameters, cv=cv, scoring='accuracy', return_train_score=True)\n",
    "        grid_search.fit(features, labels)\n",
    "\n",
    "        print('Best Parameters:', grid_search.best_params_)\n",
    "        return grid_search\n"
   ]
  },
  {
   "cell_type": "code",
   "execution_count": 19,
   "id": "574bcedd-7a81-462a-8454-5760530a9631",
   "metadata": {},
   "outputs": [],
   "source": [
    "def run_agent(agent):\n",
    "    env = GrayScaleObservation(gym.make(\"SuperMarioBros-v3\"))\n",
    "    env.reset()\n",
    "    done = False\n",
    "    state_history = []\n",
    "    action_history = []\n",
    "\n",
    "    with tqdm(total=100) as pbar:\n",
    "        while not done:\n",
    "            state, reward, done, _ = env.step(0)  # Example using a constant action\n",
    "            action = agent.get_action(state)\n",
    "            state_history.append(state)\n",
    "            action_history.append(action)\n",
    "            pbar.update(1)\n",
    "\n",
    "    env.close()"
   ]
  },
  {
   "cell_type": "code",
   "execution_count": null,
   "id": "fd44995d-c13a-4604-bfee-99492f526c7c",
   "metadata": {},
   "outputs": [
    {
     "name": "stdout",
     "output_type": "stream",
     "text": [
      "Adding  imitation_mario_rec_carson_032124_145619.npz\n",
      "Adding  imitation_mario_rec_carson_032124_145652.npz\n",
      "Reshaped state history shape: (6707, 61440)\n",
      "Training Complete.\n"
     ]
    },
    {
     "name": "stderr",
     "output_type": "stream",
     "text": [
      "/home/mathew/miniconda3/lib/python3.11/site-packages/sklearn/model_selection/_split.py:725: UserWarning: The least populated class in y has only 1 members, which is less than n_splits=5.\n",
      "  warnings.warn(\n"
     ]
    }
   ],
   "source": [
    "record_path = \"recordings\"\n",
    "\n",
    "if not os.path.isdir(record_path):\n",
    "    print(f\"Error: {record_path} is not a valid directory.\")\n",
    "else:\n",
    "    rec_state_history, rec_action_history = get_state_action_pairs(2)\n",
    "\n",
    "    if rec_state_history.ndim == 3:\n",
    "        nsamples, height, width = rec_state_history.shape\n",
    "        rec_state_history = rec_state_history.reshape((nsamples, height * width))\n",
    "\n",
    "    print(\"Reshaped state history shape:\", rec_state_history.shape)\n",
    "\n",
    "    train_states, test_states, train_actions, test_actions = train_test_split(\n",
    "        rec_state_history, rec_action_history, test_size=0.2, random_state=42)\n",
    "\n",
    "    agent = DecisionTree()\n",
    "    agent.train(train_states, train_actions)\n",
    "\n",
    "    grid_search = agent.evaluate_and_tune(train_states, train_actions)\n"
   ]
  },
  {
   "cell_type": "code",
   "execution_count": null,
   "id": "ab10e314-1ceb-4b96-a64a-dd85874d8339",
   "metadata": {},
   "outputs": [],
   "source": [
    "run_agent(agent)"
   ]
  },
  {
   "cell_type": "code",
   "execution_count": null,
   "id": "ce15e28e-6f07-4b0b-b991-c345eb161ad9",
   "metadata": {},
   "outputs": [],
   "source": [
    "results = grid_search.cv_results_\n",
    "sets = ['set 1', 'set 2', 'set 3', 'set 4', 'set 5' , 'set 6', 'set 7', 'set 8', 'set 9', 'set 10', 'set 11', 'set 12']\n",
    "plt.figure(figsize=(10, 5))\n",
    "plt.title(\"Training Accuracy\")\n",
    "plt.bar(sets, results['mean_train_score'], width= 0.5)\n",
    "plt.xlabel('Parameter Combination')\n",
    "plt.ylabel('Accuracy')"
   ]
  },
  {
   "cell_type": "code",
   "execution_count": null,
   "id": "dc7a662e-856f-45ad-9637-03086ae646af",
   "metadata": {},
   "outputs": [],
   "source": [
    "plt.figure(figsize=(10, 5))\n",
    "plt.title(\"Validation Accuracy\")\n",
    "plt.bar(sets, results['mean_test_score'], width= 0.5)\n",
    "plt.xlabel('Parameter Combination')\n",
    "plt.ylabel('Accuracy')"
   ]
  },
  {
   "cell_type": "code",
   "execution_count": null,
   "id": "0d66e696-0334-4c63-94db-5cac94b343cb",
   "metadata": {},
   "outputs": [],
   "source": [
    "\n",
    "print('combinations:      \\nset 1: gini + none      \\nset 2: gini + 10      \\nset 3: gini + 20 \\nset 4: gini+ 30 \\nset 5: entropy + none \\nset 6: entropy + 10 \\nset 7: entropy + 20 \\nset 8: entropy + 30 \\nset 9: log loss + none \\nset 10: log loss + 10 \\nset 11: log loss + 20 \\nset 12: log loss + 30 ')"
   ]
  },
  {
   "cell_type": "markdown",
   "id": "4f4bafbb-8437-4b11-83ce-ab35f25aa9fa",
   "metadata": {},
   "source": [
    "# 3. ADABoosting\n",
    "We used ADABoosting as an example as to why our agent should not use classification methods using state-action pairs to play super mario. Though the accuracy of the boosting model is generally higher than techniques alone, in our case, since we are using ensembling in a supervised learning way based on the decision tree stump model, the ensemble booster model accuracy is ____. Since the goal of our classification is to classify in a way that allows the model to beat the super mario game, the application of ensembling wouldn't be the best as it would base the action it takes strictly on the states ran through by a mario play-through done by the user, which could be susceptible to faulty playthroughs. If we were to apply an RL agent on the other hand which creates policies on the premise of maximizing rewards as our model for ADABoosting, it would likely be a good approach as the accuracy would be increased substantially."
   ]
  },
  {
   "cell_type": "code",
   "execution_count": 26,
   "id": "b53c5181-42c4-4498-aeb1-d0d7f1abb031",
   "metadata": {},
   "outputs": [],
   "source": [
    "#imports\n",
    "import gym\n",
    "from nes_py.wrappers import JoypadSpace\n",
    "from nes_py.app.play_human import play_human\n",
    "from gym.wrappers.gray_scale_observation import GrayScaleObservation\n",
    "import cv2\n",
    "import numpy as np\n",
    "from datetime import datetime\n",
    "from sklearn.ensemble import *\n",
    "import pickle\n",
    "from playback import get_state_action_pairs\n",
    "from sklearn.model_selection import *"
   ]
  },
  {
   "cell_type": "code",
   "execution_count": 32,
   "id": "d52f55fb-1912-4e83-85e0-e8027aaf9812",
   "metadata": {},
   "outputs": [],
   "source": [
    "# ADABoost\n",
    "class boosting_agent:\n",
    "    def __init__(self, model = None, n_estimators = 50):\n",
    "        self.done = False\n",
    "        self.name = \"boosting_agent\"\n",
    "        if model is None:\n",
    "            self.model = AdaBoostClassifier(n_estimators = n_estimators)\n",
    "        else:\n",
    "            self.model = model\n",
    "\n",
    "    def get_action(self, state):\n",
    "        state = state.flatten().reshape(1, -1)\n",
    "        return self.model.predict(state)\n",
    "\n",
    "    def train(self, state_history, action_history):\n",
    "        self.model.fit(state_history, action_history)\n",
    "        pickle.dump(self.model, open(\"booster_model.p\", \"wb\"))\n",
    "        print(\"Training Complete.\")\n",
    "\n",
    "    def evaluate_and_tune(self, features, labels):\n",
    "        parameters = {\n",
    "            'n_estimators': [40, 50, 60],\n",
    "            'learning_rate': [0.8, 1.0, 1.2]\n",
    "        }\n",
    "        cv = 5\n",
    "        grid_search = GridSearchCV(self.model, parameters, cv=cv, scoring='accuracy', return_train_score=True)\n",
    "        grid_search.fit(features, labels)\n",
    "\n",
    "        print('Best Parameters:', grid_search.best_params_)\n",
    "        return grid_search\n"
   ]
  },
  {
   "cell_type": "code",
   "execution_count": 30,
   "id": "601b3835-413a-41c4-b34f-0a498418a528",
   "metadata": {},
   "outputs": [],
   "source": [
    "def run_agent(agent):\n",
    "    env = GrayScaleObservation(gym.make(\"SuperMarioBros-v3\"))\n",
    "    env.reset()\n",
    "    done = False\n",
    "    state_history = []\n",
    "    action_history = []\n",
    "\n",
    "    with tqdm(total=100) as pbar:\n",
    "        while not done:\n",
    "            state, reward, done, _ = env.step(0)  # Example using a constant action\n",
    "            action = agent.get_action(state)\n",
    "            state_history.append(state)\n",
    "            action_history.append(action)\n",
    "            pbar.update(1)\n",
    "\n",
    "    env.close()"
   ]
  },
  {
   "cell_type": "code",
   "execution_count": null,
   "id": "538de86f-fa07-4f18-8f9a-9b40bec36fbf",
   "metadata": {},
   "outputs": [
    {
     "name": "stdout",
     "output_type": "stream",
     "text": [
      "Adding  imitation_mario_rec_carson_032124_145619.npz\n",
      "Adding  imitation_mario_rec_carson_032124_145652.npz\n",
      "Reshaped state history shape: (6707, 61440)\n"
     ]
    }
   ],
   "source": [
    "record_path = \"recordings\"\n",
    "\n",
    "if not os.path.isdir(record_path):\n",
    "    print(f\"Error: {record_path} is not a valid directory.\")\n",
    "else:\n",
    "    rec_state_history, rec_action_history = get_state_action_pairs(2)\n",
    "\n",
    "    if rec_state_history.ndim == 3:\n",
    "        nsamples, height, width = rec_state_history.shape\n",
    "        rec_state_history = rec_state_history.reshape((nsamples, height * width))\n",
    "\n",
    "    print(\"Reshaped state history shape:\", rec_state_history.shape)\n",
    "\n",
    "    train_states, test_states, train_actions, test_actions = train_test_split(\n",
    "        rec_state_history, rec_action_history, test_size=0.2, random_state=42)\n",
    "\n",
    "    agent = boosting_agent()\n",
    "    agent.train(train_states, train_actions)\n",
    "\n",
    "    grid_search = agent.evaluate_and_tune(train_states, train_actions)\n"
   ]
  },
  {
   "cell_type": "code",
   "execution_count": null,
   "id": "a4e60cc4-1365-4eea-b0e5-daa9f9f74eb1",
   "metadata": {},
   "outputs": [],
   "source": [
    "run_agent(agent)"
   ]
  },
  {
   "cell_type": "code",
   "execution_count": null,
   "id": "eb2e14e1-e0c0-4398-a378-2946fa2533c5",
   "metadata": {},
   "outputs": [],
   "source": [
    "results = grid_search.cv_results_\n",
    "sets = ['set 1', 'set 2', 'set 3', 'set 4', 'set 5' , 'set 6', 'set 7', 'set 8', 'set 9']\n",
    "plt.figure(figsize=(10, 5))\n",
    "plt.title(\"Training Accuracy\")\n",
    "plt.bar(sets, results['mean_train_score'], width= 0.5)\n",
    "plt.xlabel('Parameter Combination')\n",
    "plt.ylabel('Accuracy')"
   ]
  },
  {
   "cell_type": "code",
   "execution_count": null,
   "id": "44ce108d-876b-4300-a0f4-574a724067a6",
   "metadata": {},
   "outputs": [],
   "source": [
    "plt.figure(figsize=(10, 5))\n",
    "plt.title(\"Validation Accuracy\")\n",
    "plt.bar(sets, results['mean_test_score'], width= 0.5)\n",
    "plt.xlabel('Parameter Combination')\n",
    "plt.ylabel('Accuracy')"
   ]
  },
  {
   "cell_type": "code",
   "execution_count": null,
   "id": "b1055106-949a-4cab-a66e-5cfc597e1e08",
   "metadata": {},
   "outputs": [],
   "source": [
    "\n",
    "print('combinations (n estimators, learning rate) :\\nset 1: (40, 0.8) \\nset 2: (40, 1.0) \\nset 3: (40, 1.2) \\nset 4: (50, 0.8) \\nset 5 (50, 1.0) \\nset 6 (50, 1.2) \\nset 7 (60, 0.8) \\nset 8(60, 1.0) \\nset 9 (60, 1.2)\n",
    "\n",
    "      'n_estimators': [40, 50, 60],\n",
    "            'learning_rate': [0.8, 1.0: 1.2]"
   ]
  },
  {
   "cell_type": "markdown",
   "id": "9dcd9ab3",
   "metadata": {},
   "source": [
    "# 4. CNN\n",
    "\n",
    "Process: Our process involved splitting the dataset into training and validation sets using a 80-20 ratio. We tested every combination of kernel size and activation function for 4 epochs. Once we decided not to vary our batch size we kept it constant at 32. We then recorded the training histories which included the training and validation accuracies for each combination of hyperparameters.\n",
    "\n",
    "Conclusion: Based on hyperparameter tuning we found that the combination of a kernel size with (3,3) and the tanh activation function seemed to be the most effective as evidenced by the training and validation accuracy.\n",
    "\n",
    "Further steps: In order to further tune our hyperparameters to make more accurate predictions we could vary the number of our convolutional layers. Since increasing the number of convolutional layers may allow our model to distinguish between more complex representations, we may be able to improve our performance. We could also test different learning rates to optimize convergence.\n",
    "\n",
    "\n"
   ]
  },
  {
   "cell_type": "code",
   "execution_count": null,
   "id": "a8b382e6",
   "metadata": {},
   "outputs": [],
   "source": [
    "import gym_super_mario_bros\n",
    "import gym\n",
    "import nes_py\n",
    "from nes_py.wrappers import JoypadSpace\n",
    "from nes_py.app.play_human import play_human\n",
    "from gym.wrappers.gray_scale_observation import GrayScaleObservation\n",
    "import cv2\n",
    "import numpy as np\n",
    "import sys\n",
    "from datetime import datetime\n",
    "import argparse\n",
    "import pickle\n",
    "from playback import get_state_action_pairs \n",
    "import tensorflow as tf\n",
    "from tensorflow.keras import datasets, layers, models\n",
    "import matplotlib.pyplot as plt\n",
    "from sklearn.model_selection import train_test_split "
   ]
  },
  {
   "cell_type": "markdown",
   "id": "79446eca",
   "metadata": {},
   "source": [
    "The below code converts our game space from rgb to grayscale. Eliminate unecessary action remaps our actionspace from 0->7 as this is what our action input data is looking for. Each number responds to a specific action such as 128 occurs when the user click d and it causes Mario to move forward."
   ]
  },
  {
   "cell_type": "code",
   "execution_count": null,
   "id": "fd15d606",
   "metadata": {},
   "outputs": [],
   "source": [
    "\n",
    "def rgb2gray(rgb):\n",
    "    r, g, b = rgb[:,:,0], rgb[:,:,1], rgb[:,:,2]\n",
    "    gray = 0.2989 * r + 0.5870 * g + 0.1140 * b\n",
    "    return gray\n",
    "\n",
    "def eliminate_unnecessary_action(data):\n",
    "    action_space = data\n",
    "    action_map = {\n",
    "        64: 0,\n",
    "        65: 1,\n",
    "        66: 2,\n",
    "        67: 3,\n",
    "        128: 4,\n",
    "        129: 5,\n",
    "        130: 6,\n",
    "        131: 7\n",
    "    }\n",
    "    \n",
    "    action_space = np.array([action_map.get(action, 0) for action in action_space])\n",
    "    return action_space"
   ]
  },
  {
   "cell_type": "markdown",
   "id": "8a0275a2",
   "metadata": {},
   "source": [
    "The code below defines a specific CNN architecture. It is using TensorFlow's keras library."
   ]
  },
  {
   "cell_type": "code",
   "execution_count": null,
   "id": "a8c3d16e",
   "metadata": {},
   "outputs": [],
   "source": [
    "# Create CNN model with specific layers, some values given from CNN tutorial with tensorflow\n",
    "def create_cnn(input_shape, num_classes):\n",
    "    model = models.Sequential([\n",
    "        layers.Conv2D(32, (3, 3), activation='relu', input_shape=input_shape),\n",
    "        layers.MaxPooling2D((2, 2)),\n",
    "        layers.Conv2D(64, (3, 3), activation='relu'),\n",
    "        layers.MaxPooling2D((2, 2)),\n",
    "        layers.Conv2D(64, (3, 3), activation='relu'),\n",
    "        layers.Flatten(),\n",
    "        layers.Dense(64, activation='relu'),\n",
    "        layers.Dense(num_classes, activation='softmax')\n",
    "    ])\n",
    "    return model"
   ]
  },
  {
   "cell_type": "markdown",
   "id": "d6820097",
   "metadata": {},
   "source": [
    "Kernel Sizes: We tested three different kernel sizes ((3,3),(5,5),(7,7)). As a smaller kernel sizes focus on smaller regions of our input image, we expected the larger kernel sizes to be more effective as they would capture a wider range of information from our input image.\n",
    "\n",
    "Activation Functions: We tested three different activation functions (Rectified Linear Unit, Hyperbolic Tangent, and Sigmoid).\n",
    "As relu (Rectified Linear Unit), is known for its effectiveness with regards to deep learning models, we expected it to perform the best.\n",
    "\n",
    "Note: Tried batch sizes but didn't feel it had a significant enough change in our accuracy. Now we set our batch size to 32."
   ]
  },
  {
   "cell_type": "code",
   "execution_count": null,
   "id": "01a4300b",
   "metadata": {},
   "outputs": [],
   "source": [
    "def hyperparameter_tuning(state_history, action_history):\n",
    "    kernel_sizes = [(3, 3), (5, 5),(7,7)]\n",
    "    activation_functions = ['relu','tanh','sigmoid']\n",
    "    #batch_sizes = [32, 64, 128]\n",
    "\n",
    "    training_histories = []\n",
    "    accuracies = []\n",
    "\n",
    "    for kernel_size in kernel_sizes:\n",
    "        for activation_function in activation_functions:\n",
    "            print(f\"training with kernel size: {kernel_size} and activation function: {activation_function}\")\n",
    "            train_a, test_a, train_b, test_b = train_test_split(state_history, action_history, test_size=0.2, random_state=42)\n",
    "            train_a = np.expand_dims(train_a, axis=-1)\n",
    "            test_a = np.expand_dims(test_a, axis=-1)\n",
    "            \n",
    "            train_a = train_a / 255.0\n",
    "            test_a = test_a / 255.0\n",
    "\n",
    "            model = create_cnn(input_shape=(state_history.shape[1], state_history.shape[2], 1), num_classes=np.max(action_history) + 1)\n",
    "            model.compile(optimizer='adam', loss='sparse_categorical_crossentropy', metrics=['accuracy'])\n",
    "\n",
    "            history = model.fit(train_a, train_b, epochs=4, batch_size=32, validation_data=(test_a, test_b))\n",
    "\n",
    "            training_histories.append(history)\n",
    "            accuracies.append(history.history['val_accuracy'][-1])"
   ]
  },
  {
   "cell_type": "markdown",
   "id": "16223893",
   "metadata": {},
   "source": [
    "The code below graphs both the training accuracy and the validation accuracy over a specified amount of epochs. The graph line colors correspond to the specific combination of kernel sizes and and activation functions. The same combination color is used for the training accuracy and the validation accuracy."
   ]
  },
  {
   "cell_type": "code",
   "execution_count": null,
   "id": "d25fe9ab",
   "metadata": {},
   "outputs": [],
   "source": [
    "    plt.figure(figsize=(10, 12))\n",
    "    colors = plt.cm.tab10.colors[:len(kernel_sizes) * len(activation_functions)]\n",
    "\n",
    "    plt.subplot(2, 1, 1)\n",
    "    for i, kernel_size in enumerate(kernel_sizes):\n",
    "        for j, activation_function in enumerate(activation_functions):\n",
    "            plt.plot(range(1, 5), training_histories[i*len(activation_functions)+j].history['accuracy'], label=f'kernel size:{kernel_size}, activation:{activation_function}')\n",
    "\n",
    "    plt.xlabel('epoch')\n",
    "    plt.ylabel('accuracy')\n",
    "    plt.title('Training Accuracy')\n",
    "    plt.legend(loc='upper center', bbox_to_anchor=(0.5, 1.15),ncol=3,fontsize='small')\n",
    "\n",
    "    plt.subplot(2, 1, 2)\n",
    "    for i, kernel_size in enumerate(kernel_sizes):\n",
    "        for j, activation_function in enumerate(activation_functions):\n",
    "            color = colors[i*len(activation_functions)+j\n",
    "            plt.plot(range(1, 5), training_histories[i*len(activation_functions)+j].history['val_accuracy'], label=f'kernel size: {kernel_size}, activation:{activation_function}', color=color)\n",
    "\n",
    "    plt.xlabel('epoch')\n",
    "    plt.ylabel('accuracy')\n",
    "    plt.title('validation accuracy')\n",
    "    plt.legend(loc='upper center', bbox_to_anchor=(0.5, 1.15), ncol=3, fontsize='small')\n",
    "\n",
    "    plt.tight_layout()\n",
    "    plt.show()\n",
    "\n",
    "    print(\"Validation Accuracies:\")\n",
    "    for i, kernel_size in enumerate(kernel_sizes):\n",
    "        for j, activation_function in enumerate(activation_functions):\n",
    "            print(f'kernel size:{kernel_size}, activation:{activation_function}: {accuracies[i*len(activation_functions)+j]}')\n"
   ]
  },
  {
   "cell_type": "markdown",
   "id": "492c49bf",
   "metadata": {},
   "source": [
    "Define the CNN Agent."
   ]
  },
  {
   "cell_type": "code",
   "execution_count": null,
   "id": "c0de4aae",
   "metadata": {},
   "outputs": [],
   "source": [
    "class CNNAgent:\n",
    "    def __init__(self, model=None, state_history=None, action_history=None):\n",
    "        self.done = False\n",
    "        self.name = \"cnn_agent\"\n",
    "        if model is None:\n",
    "            num_classes = np.max(action_history) + 1\n",
    "            self.model = create_cnn(input_shape=(state_history.shape[1], state_history.shape[2], 1), num_classes=num_classes)\n",
    "        else:\n",
    "            self.model = model\n",
    "\n",
    "    def get_action(self, state):\n",
    "        state = np.expand_dims(state, axis=0)\n",
    "        state = np.expand_dims(state, axis=-1)\n",
    "        return np.argmax(self.model.predict(state))\n",
    "        \n",
    "    def train(self, state_history, action_history):\n",
    "\n",
    "        print(\"Training...\")\n",
    "        train_a, test_a, train_b, test_b = train_test_split(state_history, action_history, test_size=0.2, random_state=42)\n",
    "        train_a = np.expand_dims(train_a, axis=-1)\n",
    "        test_a = np.expand_dims(test_a, axis=-1)\n",
    "        train_a = train_a / 255.0\n",
    "        test_a = test_a / 255.0\n",
    "        self.model.compile(optimizer='adam', loss='sparse_categorical_crossentropy', metrics=['accuracy'])\n",
    "        history = self.model.fit(train_a, train_b, epochs=1, validation_data=(test_a, test_b))\n",
    "        self.model.save(\"models/cnn_model.h5\")\n",
    "        print(\"Training complete.\")\n",
    "\n",
    "        #Graph validation and training accuracy as epochs increase\n",
    "        plt.plot(history.history['accuracy'], label='accuracy')\n",
    "        plt.plot(history.history['val_accuracy'], label='val_accuracy')\n",
    "        plt.xlabel('Epoch')\n",
    "        plt.ylabel('Accuracy')\n",
    "        plt.legend(loc='lower right')\n",
    "        plt.show()\n",
    "        pass\n"
   ]
  },
  {
   "cell_type": "code",
   "execution_count": null,
   "id": "311b15c2",
   "metadata": {},
   "outputs": [],
   "source": [
    "def run_agent(agent):\n",
    "\n",
    "    env = GrayScaleObservation(gym_super_mario_bros.make(\"SuperMarioBros-v3\"))\n",
    "    env.reset()\n",
    "\n",
    "    action_history = []\n",
    "    state_history = []\n",
    "    reward_history = []\n",
    "\n",
    "    action = [0]\n",
    "    done = False\n",
    "    while not done:\n",
    "        state, reward, done, _ = env.step(action)\n",
    "        action_history.append(action)\n",
    "        state_history.append(rgb2gray(state))\n",
    "        reward_history.append(reward)\n",
    "        action = agent.get_action(state)\n",
    "        if done:\n",
    "            print(\"Done\")\n",
    "            break\n",
    "        if agent.done:\n",
    "            print(\"Agent done\")\n",
    "            done = True\n",
    "            break\n",
    "\n",
    "    day_time = datetime.today().strftime(\"%m%d%y_%H%M%S\")\n",
    "    np.savez(f\".\\\\agent_recordings\\\\{agent.name}_{day_time}\", np.array(state_history), np.array(action_history), np.array(reward_history))\n",
    "    print(\"Recording saved\")\n",
    "    env.close()\n",
    "    cv2.destroyAllWindows()\n",
    "    print(\"Windows closed\")\n"
   ]
  },
  {
   "cell_type": "code",
   "execution_count": null,
   "id": "62cb7bd5",
   "metadata": {},
   "outputs": [],
   "source": [
    "\n",
    "rec_state_history, rec_action_history = get_state_action_pairs(2)\n",
    "rec_action_history = eliminate_unnecessary_action(rec_action_history)\n",
    "agent = CNNAgent(model=None, state_history=rec_state_history, action_history=rec_action_history)\n",
    "hyperparameter_tuning(rec_state_history, rec_action_history)"
   ]
  },
  {
   "cell_type": "code",
   "execution_count": null,
   "id": "29746f3e",
   "metadata": {},
   "outputs": [],
   "source": []
  },
  {
   "cell_type": "markdown",
   "id": "56728210-9c95-4324-b778-24f15d242506",
   "metadata": {},
   "source": [
    "# 4. Proximal Policy Optimization using Stable Baselines 3\n",
    "After finding that most classification approaches failed to yield useful results, we decided to consult the literature for a more appropriate approach. Promimal Policy Optimization (https://arxiv.org/pdf/1707.06347.pdf) is a reinforcement learning approach developed by OpenAI in 2017. Since then it has become a standard approach for reinforcement learning tasks. After doing some research online, we were able to find a utility wrapper for the SuperMarioBros gym environment. This wrapper accesses the RAM of the NES simulator directly, exposing the location of Mario and the scene features directly. This makes it easier for PPO to learn a performant policy more quickly as it doesn't need to learn the mapping from the image space to semanticly meaningful features.\n",
    "\n"
   ]
  },
  {
   "cell_type": "code",
   "execution_count": 1,
   "id": "78297ee1-9587-44e9-a065-9e822348eb2e",
   "metadata": {},
   "outputs": [],
   "source": [
    "# All necessary imports\n",
    "from nes_py.wrappers import JoypadSpace\n",
    "import gym \n",
    "import gym_super_mario_bros\n",
    "from gym_super_mario_bros.actions import SIMPLE_MOVEMENT, RIGHT_ONLY \n",
    "\n",
    "from stable_baselines3 import PPO\n",
    "from stable_baselines3.common.vec_env import DummyVecEnv, VecEnv, SubprocVecEnv\n",
    "from stable_baselines3.common.evaluation import evaluate_policy\n",
    "from stable_baselines3.common.monitor import Monitor\n",
    "from stable_baselines3.common.callbacks import BaseCallback\n",
    "import os\n",
    "import time\n",
    "import matplotlib.pyplot as plt\n",
    "from datetime import datetime\n",
    "from gym_utils import SMBRamWrapper\n",
    "from stable_baselines3.common.evaluation import evaluate_policy\n",
    "import matplotlib.pyplot as plt\n",
    "\n",
    "%matplotlib inline"
   ]
  },
  {
   "cell_type": "markdown",
   "id": "6539a40c-00d9-49ec-8c28-8dc747cec589",
   "metadata": {},
   "source": [
    "### Defining Callback and Helper Functions\n",
    "The logging callback class is used to populate the score/time_step lists for later display.  \n",
    "The linear schedule is derived from the stablebaselines documentation, and is considered a standard approach for PPO."
   ]
  },
  {
   "cell_type": "code",
   "execution_count": 2,
   "id": "d4bfb10e-357f-412c-b8af-c21e3f39fed2",
   "metadata": {},
   "outputs": [],
   "source": [
    "class EvaluationCallback(BaseCallback):\n",
    "\n",
    "    def __init__(self, check_freq, env_wrap, starting_steps=0, verbose=1):\n",
    "        super(EvaluationCallback, self).__init__(verbose)\n",
    "        self.check_freq = check_freq\n",
    "        self.starting_steps = starting_steps\n",
    "        self.evaluations = []\n",
    "\n",
    "    def _init_callback(self):\n",
    "        self.env_wrap = self.model.get_env()\n",
    "        print(\"Initialized Callback\")\n",
    "\n",
    "    def _on_step(self):\n",
    "        if self.n_calls % self.check_freq == 0:\n",
    "            eval = evaluate_policy(self.model, self.env_wrap, n_eval_episodes=1, deterministic=True, render=False, return_episode_rewards=False)\n",
    "            self.evaluations.append(eval[0])\n",
    "        return True\n",
    "    \n",
    "# Linear learning rate schedule\n",
    "# https://stable-baselines3.readthedocs.io/en/master/guide/examples.html#learning-rate-schedule\n",
    "from typing import Callable\n",
    "\n",
    "def linear_schedule(initial_value: float) -> Callable[[float], float]:\n",
    "    \"\"\"\n",
    "    Linear learning rate schedule.\n",
    "\n",
    "    :param initial_value: Initial learning rate.\n",
    "    :return: schedule that computes\n",
    "      current learning rate depending on remaining progress\n",
    "    \"\"\"\n",
    "    def func(progress_remaining: float) -> float:\n",
    "        \"\"\"\n",
    "        Progress will decrease from 1 (beginning) to 0.\n",
    "\n",
    "        :param progress_remaining:\n",
    "        :return: current learning rate\n",
    "        \"\"\"\n",
    "        return progress_remaining * initial_value\n",
    "\n",
    "    return func"
   ]
  },
  {
   "cell_type": "code",
   "execution_count": 3,
   "id": "d68608b1-0435-47fe-85ca-9be64d75e781",
   "metadata": {},
   "outputs": [],
   "source": [
    "# Create the environment\n",
    "env = gym_super_mario_bros.make('SuperMarioBros-1-1-v3')\n",
    "env = JoypadSpace(env, SIMPLE_MOVEMENT)\n",
    "x0 = 0\n",
    "x1 = 16\n",
    "y0 = 0\n",
    "y1 = 13\n",
    "n_stack = 4\n",
    "n_skip = 4\n",
    "env_wrap = SMBRamWrapper(env, [x0, x1, y0, y1], n_stack=n_stack, n_skip=n_skip)\n",
    "env_wrap = Monitor(env_wrap)\n",
    "env_wrap = DummyVecEnv([lambda: env_wrap])\n"
   ]
  },
  {
   "cell_type": "code",
   "execution_count": 4,
   "id": "64ccad8c-13c4-4b5a-b9c3-f17e42576588",
   "metadata": {},
   "outputs": [],
   "source": [
    "day_time = datetime.today().strftime(\"%m%d%y_%H%M%S\")\n",
    "MODEL_DIR = './models/PPO_' + day_time"
   ]
  },
  {
   "cell_type": "code",
   "execution_count": null,
   "id": "444688c3-0c6b-4aa7-82a6-2287674185c5",
   "metadata": {},
   "outputs": [
    {
     "name": "stdout",
     "output_type": "stream",
     "text": [
      "Training bs:  16  n_e:  8  gamma:  0.8\n",
      "Evaluation performance:  (232.0, 0.0)\n",
      "Training bs:  16  n_e:  8  gamma:  0.9\n",
      "Evaluation performance:  (232.0, 0.0)\n",
      "Training bs:  16  n_e:  8  gamma:  0.99\n",
      "Evaluation performance:  (232.0, 0.0)\n",
      "Training bs:  16  n_e:  10  gamma:  0.8\n",
      "Evaluation performance:  (252.0, 0.0)\n",
      "Training bs:  16  n_e:  10  gamma:  0.9\n",
      "Evaluation performance:  (232.0, 0.0)\n",
      "Training bs:  16  n_e:  10  gamma:  0.99\n",
      "Evaluation performance:  (-415.0, 0.0)\n",
      "Training bs:  16  n_e:  12  gamma:  0.8\n",
      "Evaluation performance:  (232.0, 0.0)\n",
      "Training bs:  16  n_e:  12  gamma:  0.9\n",
      "Evaluation performance:  (-415.0, 0.0)\n",
      "Training bs:  16  n_e:  12  gamma:  0.99\n",
      "Evaluation performance:  (252.0, 0.0)\n",
      "Training bs:  32  n_e:  8  gamma:  0.8\n",
      "Evaluation performance:  (-455.0, 0.0)\n",
      "Training bs:  32  n_e:  8  gamma:  0.9\n"
     ]
    }
   ],
   "source": [
    "# Hyperparameters to tune on\n",
    "batch_sizes = [16,32,64]\n",
    "n_epochs = [8,10,12]\n",
    "gammas = [0.8,0.9,0.99]\n",
    "\n",
    "models = []\n",
    "evals = []\n",
    "for batch_size in batch_sizes:\n",
    "    for n_epoch in n_epochs:\n",
    "        for gamma in gammas:\n",
    "            print(\"Training bs: \", batch_size, \" n_e: \", n_epoch, \" gamma: \", gamma)\n",
    "            model = PPO('MlpPolicy', env_wrap, verbose=0, learning_rate=linear_schedule(3e-4), batch_size=batch_size,n_epochs=n_epoch,gamma=gamma) \n",
    "            model.learn(total_timesteps=1e2)\n",
    "            eval = evaluate_policy(model, env_wrap, n_eval_episodes=1, deterministic=True, render=False, return_episode_rewards=False)\n",
    "            models.append(model)\n",
    "            evals.append(eval)\n",
    "            print(\"Evaluation performance: \", eval)\n",
    "            "
   ]
  },
  {
   "cell_type": "code",
   "execution_count": 8,
   "id": "74708140-9489-48ce-9e4c-0e85df03d267",
   "metadata": {},
   "outputs": [
    {
     "data": {
      "text/plain": [
       "1000.0"
      ]
     },
     "execution_count": 8,
     "metadata": {},
     "output_type": "execute_result"
    }
   ],
   "source": [
    "1e3"
   ]
  },
  {
   "cell_type": "code",
   "execution_count": null,
   "id": "618ed1e9-b06b-4d5c-a8d0-8a0e2676239b",
   "metadata": {},
   "outputs": [],
   "source": [
    "# #Training all of the models\n",
    "# t_start = time.time()\n",
    "# model.learn(total_timesteps=10e3, callback=callback,progress_bar=True)\n",
    "# t_elapsed = time.time() - t_start\n",
    "# print('Wall time: {} s'.format(round(t_elapsed, 2)))\n",
    "# # Save model\n",
    "# model_path = os.path.join(MODEL_DIR)\n",
    "# model.save(model_path)"
   ]
  },
  {
   "cell_type": "code",
   "execution_count": null,
   "id": "96e0337e-915b-4bfd-bf5a-66e8001cc6e5",
   "metadata": {},
   "outputs": [],
   "source": [
    "# evaluate the model\n",
    "evaluate_policy(model, env_wrap, n_eval_episodes=1, deterministic=True, render=False, return_episode_rewards=False)\n",
    "plt.figure()\n",
    "plt.plot(callback.evaluations)\n",
    "plt.show()"
   ]
  },
  {
   "cell_type": "code",
   "execution_count": null,
   "id": "daca74b7-9c9f-4bb2-9884-3cd11479182b",
   "metadata": {},
   "outputs": [],
   "source": [
    "episode = 1\n",
    "\n",
    "for episode in range(1, episode+1):\n",
    "    states = env_wrap.reset()\n",
    "    done = False\n",
    "    score = 0\n",
    "    \n",
    "    while not done:\n",
    "        env_wrap.render()\n",
    "        action, _ = model.predict(states, deterministic=True)\n",
    "        states, reward, done, info = env_wrap.step(action)\n",
    "        score += reward\n",
    "        time.sleep(0.01)\n",
    "    print('Episode:{} Score:{}'.format(episode, score))"
   ]
  },
  {
   "cell_type": "code",
   "execution_count": null,
   "id": "fb5cdb7f-b6e8-409a-9763-9219199bb5d3",
   "metadata": {},
   "outputs": [],
   "source": [
    "env.close()"
   ]
  },
  {
   "cell_type": "code",
   "execution_count": null,
   "id": "88ee92a4-1425-466d-ae9f-70090c3c8ca7",
   "metadata": {},
   "outputs": [],
   "source": [
    "callback.evaluations"
   ]
  }
 ],
 "metadata": {
  "kernelspec": {
   "display_name": "Python 3 (ipykernel)",
   "language": "python",
   "name": "python3"
  },
  "language_info": {
   "codemirror_mode": {
    "name": "ipython",
    "version": 3
   },
   "file_extension": ".py",
   "mimetype": "text/x-python",
   "name": "python",
   "nbconvert_exporter": "python",
   "pygments_lexer": "ipython3",
   "version": "3.11.5"
  }
 },
 "nbformat": 4,
 "nbformat_minor": 5
}
