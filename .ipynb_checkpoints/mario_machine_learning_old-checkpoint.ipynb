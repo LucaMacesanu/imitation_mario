{
 "cells": [
  {
   "cell_type": "markdown",
   "id": "014d86d6-f0e2-493a-8574-5b792b50295c",
   "metadata": {},
   "source": [
    "### Group Number: 27  \n",
    "### Group Members: Luca Macesanu, Samik Singh, Carson Ngyuen, Mathew Huan"
   ]
  },
  {
   "cell_type": "markdown",
   "id": "61887bd6-01fc-4527-a964-ef48e9a1a6c6",
   "metadata": {},
   "source": [
    "# Problem Statement\n",
    "\n",
    "For our project, we wanted to create a model to play a videogame. During the process, we first considered playing pokemon. However, we were unable to find a robust dataset to use. Therefore, we ended up moving forward with the gym retro library where we were able to load games and create our own dataset. The game we wanted to choose was Mortal Kombat. However, that didn't work as we were unable to get it to run. Therefore, we settled on Super Mario Bros. Therefore, we decided to create models that would be able to complete world 1-1 of Super Mario Bros.\n",
    "\n",
    "\n",
    "We first collected data. Then we moved on to using classification based approaches similar to what we learned in class. Lastly, we used Proximal Policy Optimization to expand upon our knowledge. \n"
   ]
  },
  {
   "cell_type": "markdown",
   "id": "99993be6-415c-4842-8c57-e7a5494846b8",
   "metadata": {},
   "source": [
    "# Data Collection\n",
    "\n",
    "\n",
    "Since there were no existing datasets for our project, we decided to collect our own data. We collected a total of 128942 state action pairs in order to treat gameplay as a classification problem in order to predict how a human would play the game. \n",
    "\n",
    "\n",
    "Since we collected the data, data cleaning was more minimal. We remapped our action spaces as there were many action outputs that matched the state of the game. By consolidating these actions, we reduced the overall spread of our data. We also scaled the state space by normalizing pixel values making it easier to process as well. Lastly, we manually combed through the files removing corrupted or improperly recorded data\n",
    "\n",
    "<histogram>\n",
    "\n",
    "<np.mean the states>\n"
   ]
  },
  {
   "cell_type": "code",
   "execution_count": null,
   "id": "a205298f-5ec3-42a9-8112-b4d04459bdda",
   "metadata": {},
   "outputs": [],
   "source": [
    "#imports\n",
    "import gym\n",
    "import numpy as np\n",
    "import matplotlib.pyplot as plt\n",
    "from sklearn.model_selection import train_test_split, GridSearchCV, cross_val_score\n",
    "import pickle\n",
    "from datetime import datetime\n",
    "from tqdm import tqdm\n",
    "from gym.wrappers import GrayScaleObservation\n",
    "import os\n",
    "from sklearn import tree\n",
    "\n",
    "\n",
    "# Custom imports\n",
    "from playback import get_state_action_pairs"
   ]
  },
  {
   "cell_type": "code",
   "execution_count": null,
   "id": "b6e364dc-8c03-45c3-90af-32511e2a0c7b",
   "metadata": {},
   "outputs": [],
   "source": [
    "def eliminate_unnecessary_action(data):\n",
    "    action_space = data\n",
    "    \n",
    "    #This might not be necessary but im on a time crunch (Theres 100% a better way to do this)\n",
    "    action_map = {\n",
    "        64: 0,\n",
    "        65: 1,\n",
    "        66: 2,\n",
    "        67: 3,\n",
    "        128: 4,\n",
    "        129: 5,\n",
    "        130: 6,\n",
    "        131: 7\n",
    "    }\n",
    "    \n",
    "    # Map original action values to new values\n",
    "    action_space = np.array([action_map.get(action, 0) for action in action_space])\n",
    "    \n",
    "    return action_space"
   ]
  },
  {
   "cell_type": "code",
   "execution_count": null,
   "id": "8e86c9e4-388b-4587-93ca-0943e0fcd54d",
   "metadata": {},
   "outputs": [],
   "source": [
    "# generate bar chart of action frequencies\n",
    "rec_state_history, rec_action_history = get_state_action_pairs(3)\n",
    "#load data\n",
    "rec_action_history = eliminate_unnecessary_action(rec_action_history)\n",
    "\n",
    "unique_vals, frequencies = np. unique(rec_action_history, return_counts = True)\n",
    "plt.bar(unique_vals, frequencies)"
   ]
  },
  {
   "cell_type": "code",
   "execution_count": null,
   "id": "d1dc066d-3d80-4241-8d37-119f12ec3805",
   "metadata": {},
   "outputs": [],
   "source": [
    "def average_images(images):\n",
    "    average_image = np.mean(images, axis=0)\n",
    "    plt.imshow(average_image, cmap = 'gray')\n",
    "    plt. title('Average Image')\n",
    "    plt.axis('off')\n",
    "    plt.show()"
   ]
  },
  {
   "cell_type": "code",
   "execution_count": null,
   "id": "8d62e5e8-dd96-4105-9d2c-0d06f7be7823",
   "metadata": {},
   "outputs": [],
   "source": [
    "#np mean of states\n",
    "average_images(rec_state_history)"
   ]
  },
  {
   "cell_type": "markdown",
   "id": "f00380ee-e1f5-4933-b477-aa22beae37e9",
   "metadata": {},
   "source": [
    "# Classification Based Approaches"
   ]
  },
  {
   "cell_type": "markdown",
   "id": "778c7809-0a65-4767-a59e-24a139de2bd8",
   "metadata": {},
   "source": [
    "## 1. KNN\n",
    "\n",
    "We used KNN as an example as to why our agent should not use classification methods using state-action pairs to solve the issue. One issue is KNN's susceptibility to noise. Since there are so many permutations to how a scene could be set depending on where the enemies are relative to the scene, it is hard for us to fully clean our data of noises as it is a large part of the game. \n",
    "\n",
    "Another issue for KNN is the curse of dimensionality. This dataset is composed of two numpy arrays: a 3D array that describes the environment and a 1D array that describes the action taken. In many cases in training, our players did drastically different actions at the same observation or the same action at a slightly different observation. Therefore, KNN has difficulties in finding similarities between records. This resulted in our KNN model taking vast amounts of time for training off of a singular isolated run and thus not finishing. We included the code as a large comment since it wil be unable to run in a realistic timeframe due to the sheer size of our data, even when drastically reducing the amount of data used. "
   ]
  },
  {
   "cell_type": "code",
   "execution_count": null,
   "id": "36b321f5-20c2-4598-b877-8324f1296921",
   "metadata": {},
   "outputs": [],
   "source": [
    "'''\n",
    "import gym\n",
    "import numpy as np\n",
    "import matplotlib.pyplot as plt\n",
    "from sklearn.model_selection import train_test_split, GridSearchCV, cross_val_score\n",
    "import pickle\n",
    "from datetime import datetime\n",
    "from sklearn.neighbors import KNeighborsClassifier\n",
    "from tqdm import tqdm\n",
    "from gym.wrappers import GrayScaleObservation\n",
    "import os\n",
    "import sklearn as sk\n",
    "from sklearn.pipeline import Pipeline\n",
    "\n",
    "# Custom imports assuming these are correctly implemented\n",
    "from playback import get_state_action_pairs\n",
    "\n",
    "class knn:\n",
    "    def __init__(self, model = None, n_n= 10):\n",
    "        self.done = False\n",
    "        self.name = \"KNN\"\n",
    "\n",
    "        #generates a pipeline that scales and decreases dimensions. \n",
    "        if model is None:\n",
    "            pline = Pipeline([('scaler', sk.preprocessing.StandardScaler()), ('pca', sk.decomposition.PCA()), \n",
    "                  ('knn', KNeighborsClassifier(n_neighbors= n_n))])\n",
    "            self.model = pline\n",
    "        else:\n",
    "            self.model = model\n",
    "\n",
    "    def get_action(self, state):\n",
    "        state = state.flatten().reshape(1, -1)\n",
    "        return self.model.predict(state)\n",
    "\n",
    "    def train(self, state_history, action_history):\n",
    "        self.model.fit(state_history, action_history)\n",
    "        pickle.dump(self.model, open(\"knn.p\", \"wb\"))\n",
    "        print(\"Training Complete.\")\n",
    "\n",
    "    def evaluate_and_tune(self, features, labels):\n",
    "        parameters = {\n",
    "             'n_neighbors': [None, 5, 10, 15]\n",
    "        }\n",
    "        cv = 5\n",
    "        grid_search = GridSearchCV(self.model, parameters, cv=cv, scoring='accuracy', return_train_score=True)\n",
    "        grid_search.fit(features, labels)\n",
    "\n",
    "        print('Best Parameters:', grid_search.best_params_)\n",
    "        return grid_search\n",
    "\n",
    "def plot_accuracy(grid_search):\n",
    "    results = grid_search.cv_results_\n",
    "    plt.figure(figsize=(10, 5))\n",
    "    plt.title(\"Training vs Validation Accuracy\")\n",
    "    plt.plot(results['mean_train_score'], label='Train Accuracy')\n",
    "    plt.plot(results['mean_test_score'], label='Validation Accuracy')\n",
    "    plt.xlabel('Parameter Combination')\n",
    "    plt.ylabel('Accuracy')\n",
    "    plt.legend()\n",
    "    plt.show()\n",
    "\n",
    "def run_agent(agent):\n",
    "    env = GrayScaleObservation(gym.make(\"SuperMarioBros-v3\"))\n",
    "    env.reset()\n",
    "    done = False\n",
    "    state_history = []\n",
    "    action_history = []\n",
    "\n",
    "    with tqdm(total=100) as pbar:\n",
    "        while not done:\n",
    "            state, reward, done, _ = env.step(0)  # Example using a constant action\n",
    "            action = agent.get_action(state)\n",
    "            state_history.append(state)\n",
    "            action_history.append(action)\n",
    "            pbar.update(1)\n",
    "\n",
    "    env.close()\n",
    "\n",
    "\n",
    "\n",
    "if __name__ == \"__main__\":\n",
    "    record_path = \"recordings\"\n",
    "    \n",
    "    if not os.path.isdir(record_path):\n",
    "        print(f\"Error: {record_path} is not a valid directory.\")\n",
    "    else:\n",
    "        rec_state_history, rec_action_history = get_state_action_pairs(2)\n",
    "\n",
    "        if rec_state_history.ndim == 3:\n",
    "            nsamples, height, width = rec_state_history.shape\n",
    "            rec_state_history = rec_state_history.reshape((nsamples, height * width))\n",
    "\n",
    "        print(\"Reshaped state history shape:\", rec_state_history.shape)\n",
    "\n",
    "        train_states, test_states, train_actions, test_actions = train_test_split(\n",
    "            rec_state_history, rec_action_history, test_size=0.2, random_state=42)\n",
    "\n",
    "        agent = knn()\n",
    "        agent.train(train_states, train_actions)\n",
    "\n",
    "        grid_search = agent.evaluate_and_tune(train_states, train_actions)\n",
    "        plot_accuracy(grid_search)\n",
    "\n",
    "        run_agent(agent)\n",
    "\n",
    "'''\n",
    "0"
   ]
  },
  {
   "cell_type": "markdown",
   "id": "cc1fbec4-e486-4699-8fec-79df63948353",
   "metadata": {},
   "source": [
    "# 2. Decision Trees\n",
    "We also used a decision tree to further demonstrate how classification using state-action pairs was inappropriate for our problem. Our data is filled with many occurrences of the same observation but slightly different actions in reaction to the same environment. \n",
    "In one run, the same person could jump at a frame earlier and thus not jump at the consequent frame or the same person could jump\n",
    "at the consequent frame and not do anything in the frame prior. This makes it difficult for the agent to draw similarities\n",
    "between runs, making it hard for the tree to fit an action to a specific state. "
   ]
  },
  {
   "cell_type": "code",
   "execution_count": null,
   "id": "1c3193e4-9348-4c2c-9a4b-c1dec751aec3",
   "metadata": {},
   "outputs": [],
   "source": [
    "# Decision Tree Class\n",
    "class DecisionTree:\n",
    "    def __init__(self, model = None, max_d = 10, dummy = False):\n",
    "        self.done = False\n",
    "        self.name = \"decision_tree\"\n",
    "        if model is None:\n",
    "            self.model = tree.DecisionTreeClassifier(criterion='entropy', max_depth=max_d)\n",
    "        else:\n",
    "            self.model = model\n",
    "\n",
    "    def get_action(self, state):\n",
    "        state = state.flatten().reshape(1, -1)\n",
    "        return self.model.predict(state)\n",
    "\n",
    "    def train(self, state_history, action_history):\n",
    "        self.model.fit(state_history, action_history)\n",
    "        pickle.dump(self.model, open(\"decision_tree_model.p\", \"wb\"))\n",
    "        print(\"Training Complete.\")\n",
    "\n",
    "    def evaluate_and_tune(self, features, labels):\n",
    "        parameters = {\n",
    "            'criterion': ['gini', 'entropy', 'log_loss'],\n",
    "            'max_depth': [None, 10, 20, 30]\n",
    "        }\n",
    "        cv = 5\n",
    "        grid_search = GridSearchCV(self.model, parameters, cv=cv, scoring='accuracy', return_train_score=True)\n",
    "        grid_search.fit(features, labels)\n",
    "\n",
    "        print('Best Parameters:', grid_search.best_params_)\n",
    "        return grid_search\n"
   ]
  },
  {
   "cell_type": "code",
   "execution_count": null,
   "id": "574bcedd-7a81-462a-8454-5760530a9631",
   "metadata": {},
   "outputs": [],
   "source": [
    "def run_agent(agent):\n",
    "    env = GrayScaleObservation(gym.make(\"SuperMarioBros-v3\"))\n",
    "    env.reset()\n",
    "    done = False\n",
    "    state_history = []\n",
    "    action_history = []\n",
    "\n",
    "    with tqdm(total=100) as pbar:\n",
    "        while not done:\n",
    "            state, reward, done, _ = env.step(0)  # Example using a constant action\n",
    "            action = agent.get_action(state)\n",
    "            state_history.append(state)\n",
    "            action_history.append(action)\n",
    "            pbar.update(1)\n",
    "\n",
    "    env.close()"
   ]
  },
  {
   "cell_type": "code",
   "execution_count": null,
   "id": "fd44995d-c13a-4604-bfee-99492f526c7c",
   "metadata": {},
   "outputs": [],
   "source": [
    "record_path = \"recordings\"\n",
    "\n",
    "if not os.path.isdir(record_path):\n",
    "    print(f\"Error: {record_path} is not a valid directory.\")\n",
    "else:\n",
    "    rec_state_history, rec_action_history = get_state_action_pairs(2)\n",
    "\n",
    "    if rec_state_history.ndim == 3:\n",
    "        nsamples, height, width = rec_state_history.shape\n",
    "        rec_state_history = rec_state_history.reshape((nsamples, height * width))\n",
    "\n",
    "    print(\"Reshaped state history shape:\", rec_state_history.shape)\n",
    "\n",
    "    train_states, test_states, train_actions, test_actions = train_test_split(\n",
    "        rec_state_history, rec_action_history, test_size=0.2, random_state=42)\n",
    "\n",
    "    agent = DecisionTree()\n",
    "    agent.train(train_states, train_actions)\n",
    "\n",
    "    grid_search = agent.evaluate_and_tune(train_states, train_actions)\n"
   ]
  },
  {
   "cell_type": "code",
   "execution_count": null,
   "id": "ab10e314-1ceb-4b96-a64a-dd85874d8339",
   "metadata": {},
   "outputs": [],
   "source": [
    "run_agent(agent)"
   ]
  },
  {
   "cell_type": "code",
   "execution_count": null,
   "id": "ce15e28e-6f07-4b0b-b991-c345eb161ad9",
   "metadata": {},
   "outputs": [],
   "source": [
    "results = grid_search.cv_results_\n",
    "sets = ['set 1', 'set 2', 'set 3', 'set 4', 'set 5' , 'set 6', 'set 7', 'set 8', 'set 9', 'set 10', 'set 11', 'set 12']\n",
    "plt.figure(figsize=(10, 5))\n",
    "plt.title(\"Training Accuracy\")\n",
    "plt.bar(sets, results['mean_train_score'], width= 0.5)\n",
    "plt.xlabel('Parameter Combination')\n",
    "plt.ylabel('Accuracy')"
   ]
  },
  {
   "cell_type": "code",
   "execution_count": null,
   "id": "dc7a662e-856f-45ad-9637-03086ae646af",
   "metadata": {},
   "outputs": [],
   "source": [
    "plt.figure(figsize=(10, 5))\n",
    "plt.title(\"Validation Accuracy\")\n",
    "plt.bar(sets, results['mean_test_score'], width= 0.5)\n",
    "plt.xlabel('Parameter Combination')\n",
    "plt.ylabel('Accuracy')"
   ]
  },
  {
   "cell_type": "code",
   "execution_count": null,
   "id": "0d66e696-0334-4c63-94db-5cac94b343cb",
   "metadata": {},
   "outputs": [],
   "source": [
    "\n",
    "print('combinations:      \\nset 1: gini + none      \\nset 2: gini + 10      \\nset 3: gini + 20 \\nset 4: gini+ 30 \\nset 5: entropy + none \\nset 6: entropy + 10 \\nset 7: entropy + 20 \\nset 8: entropy + 30 \\nset 9: log loss + none \\nset 10: log loss + 10 \\nset 11: log loss + 20 \\nset 12: log loss + 30 ')"
   ]
  },
  {
   "cell_type": "markdown",
   "id": "4f4bafbb-8437-4b11-83ce-ab35f25aa9fa",
   "metadata": {},
   "source": [
    "# 3. ADABoosting\n",
    "We used ADABoosting as an example as to why our agent should not use classification methods using state-action pairs to play super mario. Though the accuracy of the boosting model is generally higher than techniques alone, in our case, since we are using ensembling in a supervised learning way based on the decision tree stump model, the ensemble booster model accuracy is ____. Since the goal of our classification is to classify in a way that allows the model to beat the super mario game, the application of ensembling wouldn't be the best as it would base the action it takes strictly on the states ran through by a mario play-through done by the user, which could be susceptible to faulty playthroughs. If we were to apply an RL agent on the other hand which creates policies on the premise of maximizing rewards as our model for ADABoosting, it would likely be a good approach as the accuracy would be increased substantially."
   ]
  },
  {
   "cell_type": "code",
   "execution_count": null,
   "id": "b53c5181-42c4-4498-aeb1-d0d7f1abb031",
   "metadata": {},
   "outputs": [],
   "source": []
  },
  {
   "cell_type": "markdown",
   "id": "9dcd9ab3",
   "metadata": {},
   "source": [
    "# 4. CNN\n",
    "\n",
    "Process: Our process involved splitting the dataset into training and validation sets using a 80-20 ratio. We tested every combination of kernel size and activation function for 4 epochs. Once we decided not to vary our batch size we kept it constant at 32. We then recorded the training histories which included the training and validation accuracies for each combination of hyperparameters.\n",
    "\n",
    "Conclusion: Based on hyperparameter tuning we found that the combination of a kernel size with (3,3) and the tanh activation function seemed to be the most effective as evidenced by the training and validation accuracy.\n",
    "\n",
    "Further steps: In order to further tune our hyperparameters to make more accurate predictions we could vary the number of our convolutional layers. Since increasing the number of convolutional layers may allow our model to distinguish between more complex representations, we may be able to improve our performance. We could also test different learning rates to optimize convergence.\n",
    "\n",
    "\n"
   ]
  },
  {
   "cell_type": "code",
   "execution_count": null,
   "id": "a8b382e6",
   "metadata": {},
   "outputs": [],
   "source": [
    "import gym_super_mario_bros\n",
    "import gym\n",
    "import nes_py\n",
    "from nes_py.wrappers import JoypadSpace\n",
    "from nes_py.app.play_human import play_human\n",
    "from gym.wrappers.gray_scale_observation import GrayScaleObservation\n",
    "import cv2\n",
    "import numpy as np\n",
    "import sys\n",
    "from datetime import datetime\n",
    "import argparse\n",
    "import pickle\n",
    "from playback import get_state_action_pairs \n",
    "import tensorflow as tf\n",
    "from tensorflow.keras import datasets, layers, models\n",
    "import matplotlib.pyplot as plt\n",
    "from sklearn.model_selection import train_test_split "
   ]
  },
  {
   "cell_type": "markdown",
   "id": "79446eca",
   "metadata": {},
   "source": [
    "The below code converts our game space from rgb to grayscale. Eliminate unecessary action remaps our actionspace from 0->7 as this is what our action input data is looking for. Each number responds to a specific action such as 128 occurs when the user click d and it causes Mario to move forward."
   ]
  },
  {
   "cell_type": "code",
   "execution_count": null,
   "id": "fd15d606",
   "metadata": {},
   "outputs": [],
   "source": [
    "\n",
    "def rgb2gray(rgb):\n",
    "    r, g, b = rgb[:,:,0], rgb[:,:,1], rgb[:,:,2]\n",
    "    gray = 0.2989 * r + 0.5870 * g + 0.1140 * b\n",
    "    return gray\n",
    "\n",
    "def eliminate_unnecessary_action(data):\n",
    "    action_space = data\n",
    "    action_map = {\n",
    "        64: 0,\n",
    "        65: 1,\n",
    "        66: 2,\n",
    "        67: 3,\n",
    "        128: 4,\n",
    "        129: 5,\n",
    "        130: 6,\n",
    "        131: 7\n",
    "    }\n",
    "    \n",
    "    action_space = np.array([action_map.get(action, 0) for action in action_space])\n",
    "    return action_space"
   ]
  },
  {
   "cell_type": "markdown",
   "id": "8a0275a2",
   "metadata": {},
   "source": [
    "The code below defines a specific CNN architecture. It is using TensorFlow's keras library."
   ]
  },
  {
   "cell_type": "code",
   "execution_count": null,
   "id": "a8c3d16e",
   "metadata": {},
   "outputs": [],
   "source": [
    "# Create CNN model with specific layers, some values given from CNN tutorial with tensorflow\n",
    "def create_cnn(input_shape, num_classes):\n",
    "    model = models.Sequential([\n",
    "        layers.Conv2D(32, (3, 3), activation='relu', input_shape=input_shape),\n",
    "        layers.MaxPooling2D((2, 2)),\n",
    "        layers.Conv2D(64, (3, 3), activation='relu'),\n",
    "        layers.MaxPooling2D((2, 2)),\n",
    "        layers.Conv2D(64, (3, 3), activation='relu'),\n",
    "        layers.Flatten(),\n",
    "        layers.Dense(64, activation='relu'),\n",
    "        layers.Dense(num_classes, activation='softmax')\n",
    "    ])\n",
    "    return model"
   ]
  },
  {
   "cell_type": "markdown",
   "id": "d6820097",
   "metadata": {},
   "source": [
    "Kernel Sizes: We tested three different kernel sizes ((3,3),(5,5),(7,7)). As a smaller kernel sizes focus on smaller regions of our input image, we expected the larger kernel sizes to be more effective as they would capture a wider range of information from our input image.\n",
    "\n",
    "Activation Functions: We tested three different activation functions (Rectified Linear Unit, Hyperbolic Tangent, and Sigmoid).\n",
    "As relu (Rectified Linear Unit), is known for its effectiveness with regards to deep learning models, we expected it to perform the best.\n",
    "\n",
    "Note: Tried batch sizes but didn't feel it had a significant enough change in our accuracy. Now we set our batch size to 32."
   ]
  },
  {
   "cell_type": "code",
   "execution_count": null,
   "id": "01a4300b",
   "metadata": {},
   "outputs": [],
   "source": [
    "def hyperparameter_tuning(state_history, action_history):\n",
    "    kernel_sizes = [(3, 3), (5, 5),(7,7)]\n",
    "    activation_functions = ['relu','tanh','sigmoid']\n",
    "    #batch_sizes = [32, 64, 128]\n",
    "\n",
    "    training_histories = []\n",
    "    accuracies = []\n",
    "\n",
    "    for kernel_size in kernel_sizes:\n",
    "        for activation_function in activation_functions:\n",
    "            print(f\"training with kernel size: {kernel_size} and activation function: {activation_function}\")\n",
    "            train_a, test_a, train_b, test_b = train_test_split(state_history, action_history, test_size=0.2, random_state=42)\n",
    "            train_a = np.expand_dims(train_a, axis=-1)\n",
    "            test_a = np.expand_dims(test_a, axis=-1)\n",
    "            \n",
    "            train_a = train_a / 255.0\n",
    "            test_a = test_a / 255.0\n",
    "\n",
    "            model = create_cnn(input_shape=(state_history.shape[1], state_history.shape[2], 1), num_classes=np.max(action_history) + 1)\n",
    "            model.compile(optimizer='adam', loss='sparse_categorical_crossentropy', metrics=['accuracy'])\n",
    "\n",
    "            history = model.fit(train_a, train_b, epochs=4, batch_size=32, validation_data=(test_a, test_b))\n",
    "\n",
    "            training_histories.append(history)\n",
    "            accuracies.append(history.history['val_accuracy'][-1])"
   ]
  },
  {
   "cell_type": "markdown",
   "id": "16223893",
   "metadata": {},
   "source": [
    "The code below graphs both the training accuracy and the validation accuracy over a specified amount of epochs. The graph line colors correspond to the specific combination of kernel sizes and and activation functions. The same combination color is used for the training accuracy and the validation accuracy."
   ]
  },
  {
   "cell_type": "code",
   "execution_count": null,
   "id": "d25fe9ab",
   "metadata": {},
   "outputs": [],
   "source": [
    "    plt.figure(figsize=(10, 12))\n",
    "    colors = plt.cm.tab10.colors[:len(kernel_sizes) * len(activation_functions)]\n",
    "\n",
    "    plt.subplot(2, 1, 1)\n",
    "    for i, kernel_size in enumerate(kernel_sizes):\n",
    "        for j, activation_function in enumerate(activation_functions):\n",
    "            plt.plot(range(1, 5), training_histories[i*len(activation_functions)+j].history['accuracy'], label=f'kernel size:{kernel_size}, activation:{activation_function}')\n",
    "\n",
    "    plt.xlabel('epoch')\n",
    "    plt.ylabel('accuracy')\n",
    "    plt.title('Training Accuracy')\n",
    "    plt.legend(loc='upper center', bbox_to_anchor=(0.5, 1.15),ncol=3,fontsize='small')\n",
    "\n",
    "    plt.subplot(2, 1, 2)\n",
    "    for i, kernel_size in enumerate(kernel_sizes):\n",
    "        for j, activation_function in enumerate(activation_functions):\n",
    "            color = colors[i*len(activation_functions)+j\n",
    "            plt.plot(range(1, 5), training_histories[i*len(activation_functions)+j].history['val_accuracy'], label=f'kernel size: {kernel_size}, activation:{activation_function}', color=color)\n",
    "\n",
    "    plt.xlabel('epoch')\n",
    "    plt.ylabel('accuracy')\n",
    "    plt.title('validation accuracy')\n",
    "    plt.legend(loc='upper center', bbox_to_anchor=(0.5, 1.15), ncol=3, fontsize='small')\n",
    "\n",
    "    plt.tight_layout()\n",
    "    plt.show()\n",
    "\n",
    "    print(\"Validation Accuracies:\")\n",
    "    for i, kernel_size in enumerate(kernel_sizes):\n",
    "        for j, activation_function in enumerate(activation_functions):\n",
    "            print(f'kernel size:{kernel_size}, activation:{activation_function}: {accuracies[i*len(activation_functions)+j]}')\n"
   ]
  },
  {
   "cell_type": "markdown",
   "id": "492c49bf",
   "metadata": {},
   "source": [
    "Define the CNN Agent."
   ]
  },
  {
   "cell_type": "code",
   "execution_count": null,
   "id": "c0de4aae",
   "metadata": {},
   "outputs": [],
   "source": [
    "class CNNAgent:\n",
    "    def __init__(self, model=None, state_history=None, action_history=None):\n",
    "        self.done = False\n",
    "        self.name = \"cnn_agent\"\n",
    "        if model is None:\n",
    "            num_classes = np.max(action_history) + 1\n",
    "            self.model = create_cnn(input_shape=(state_history.shape[1], state_history.shape[2], 1), num_classes=num_classes)\n",
    "        else:\n",
    "            self.model = model\n",
    "\n",
    "    def get_action(self, state):\n",
    "        state = np.expand_dims(state, axis=0)\n",
    "        state = np.expand_dims(state, axis=-1)\n",
    "        return np.argmax(self.model.predict(state))\n",
    "        \n",
    "    def train(self, state_history, action_history):\n",
    "\n",
    "        print(\"Training...\")\n",
    "        train_a, test_a, train_b, test_b = train_test_split(state_history, action_history, test_size=0.2, random_state=42)\n",
    "        train_a = np.expand_dims(train_a, axis=-1)\n",
    "        test_a = np.expand_dims(test_a, axis=-1)\n",
    "        train_a = train_a / 255.0\n",
    "        test_a = test_a / 255.0\n",
    "        self.model.compile(optimizer='adam', loss='sparse_categorical_crossentropy', metrics=['accuracy'])\n",
    "        history = self.model.fit(train_a, train_b, epochs=1, validation_data=(test_a, test_b))\n",
    "        self.model.save(\"models/cnn_model.h5\")\n",
    "        print(\"Training complete.\")\n",
    "\n",
    "        #Graph validation and training accuracy as epochs increase\n",
    "        plt.plot(history.history['accuracy'], label='accuracy')\n",
    "        plt.plot(history.history['val_accuracy'], label='val_accuracy')\n",
    "        plt.xlabel('Epoch')\n",
    "        plt.ylabel('Accuracy')\n",
    "        plt.legend(loc='lower right')\n",
    "        plt.show()\n",
    "        pass\n"
   ]
  },
  {
   "cell_type": "code",
   "execution_count": null,
   "id": "311b15c2",
   "metadata": {},
   "outputs": [],
   "source": [
    "def run_agent(agent):\n",
    "\n",
    "    env = GrayScaleObservation(gym_super_mario_bros.make(\"SuperMarioBros-v3\"))\n",
    "    env.reset()\n",
    "\n",
    "    action_history = []\n",
    "    state_history = []\n",
    "    reward_history = []\n",
    "\n",
    "    action = [0]\n",
    "    done = False\n",
    "    while not done:\n",
    "        state, reward, done, _ = env.step(action)\n",
    "        action_history.append(action)\n",
    "        state_history.append(rgb2gray(state))\n",
    "        reward_history.append(reward)\n",
    "        action = agent.get_action(state)\n",
    "        if done:\n",
    "            print(\"Done\")\n",
    "            break\n",
    "        if agent.done:\n",
    "            print(\"Agent done\")\n",
    "            done = True\n",
    "            break\n",
    "\n",
    "    day_time = datetime.today().strftime(\"%m%d%y_%H%M%S\")\n",
    "    np.savez(f\".\\\\agent_recordings\\\\{agent.name}_{day_time}\", np.array(state_history), np.array(action_history), np.array(reward_history))\n",
    "    print(\"Recording saved\")\n",
    "    env.close()\n",
    "    cv2.destroyAllWindows()\n",
    "    print(\"Windows closed\")\n"
   ]
  },
  {
   "cell_type": "code",
   "execution_count": null,
   "id": "62cb7bd5",
   "metadata": {},
   "outputs": [],
   "source": [
    "\n",
    "rec_state_history, rec_action_history = get_state_action_pairs(2)\n",
    "rec_action_history = eliminate_unnecessary_action(rec_action_history)\n",
    "agent = CNNAgent(model=None, state_history=rec_state_history, action_history=rec_action_history)\n",
    "hyperparameter_tuning(rec_state_history, rec_action_history)"
   ]
  },
  {
   "cell_type": "code",
   "execution_count": null,
   "id": "29746f3e",
   "metadata": {},
   "outputs": [],
   "source": []
  },
  {
   "cell_type": "markdown",
   "id": "56728210-9c95-4324-b778-24f15d242506",
   "metadata": {},
   "source": [
    "# 4. Proximal Policy Optimization using Stable Baselines 3\n",
    "After finding that most classification approaches failed to yield useful results, we decided to consult the literature for a more appropriate approach. Promimal Policy Optimization (https://arxiv.org/pdf/1707.06347.pdf) is a reinforcement learning approach developed by OpenAI in 2017. Since then it has become a standard approach for reinforcement learning tasks. After doing some research online, we were able to find a utility wrapper for the SuperMarioBros gym environment. This wrapper accesses the RAM of the NES simulator directly, exposing the location of Mario and the scene features directly. This makes it easier for PPO to learn a performant policy more quickly as it doesn't need to learn the mapping from the image space to semanticly meaningful features.\n",
    "\n"
   ]
  },
  {
   "cell_type": "code",
   "execution_count": 29,
   "id": "78297ee1-9587-44e9-a065-9e822348eb2e",
   "metadata": {},
   "outputs": [],
   "source": [
    "# All necessary imports\n",
    "from nes_py.wrappers import JoypadSpace\n",
    "import gym \n",
    "import gym_super_mario_bros\n",
    "from gym_super_mario_bros.actions import SIMPLE_MOVEMENT, RIGHT_ONLY \n",
    "\n",
    "from stable_baselines3 import PPO\n",
    "from stable_baselines3.common.vec_env import DummyVecEnv, VecEnv, SubprocVecEnv\n",
    "from stable_baselines3.common.evaluation import evaluate_policy\n",
    "from stable_baselines3.common.monitor import Monitor\n",
    "from stable_baselines3.common.callbacks import BaseCallback\n",
    "import os\n",
    "import time\n",
    "import matplotlib.pyplot as plt\n",
    "from datetime import datetime\n",
    "from gym_utils import SMBRamWrapper\n",
    "from stable_baselines3.common.evaluation import evaluate_policy\n",
    "import matplotlib.pyplot as plt\n",
    "import numpy as np\n",
    "\n",
    "%matplotlib inline"
   ]
  },
  {
   "cell_type": "markdown",
   "id": "6539a40c-00d9-49ec-8c28-8dc747cec589",
   "metadata": {},
   "source": [
    "### The Linear Schedule Class\n",
    "The linear schedule is derived from the stablebaselines documentation, and is considered a standard approach for PPO. The point is to learn quickly at the beggining to approach a local minimum, and then fine tune towards the end."
   ]
  },
  {
   "cell_type": "code",
   "execution_count": 30,
   "id": "d4bfb10e-357f-412c-b8af-c21e3f39fed2",
   "metadata": {},
   "outputs": [],
   "source": [
    "# Linear learning rate schedule\n",
    "# https://stable-baselines3.readthedocs.io/en/master/guide/examples.html#learning-rate-schedule\n",
    "from typing import Callable\n",
    "class SaveCallback(BaseCallback):\n",
    "\n",
    "    def __init__(self, check_freq, env_wrap, starting_steps=0, verbose=1):\n",
    "        super(SaveCallback, self).__init__(verbose)\n",
    "        self.check_freq = check_freq\n",
    "        self.starting_steps = starting_steps\n",
    "        self.model_directory = \"./\"\n",
    "\n",
    "    def _init_callback(self):\n",
    "        self.env_wrap = self.model.get_env()\n",
    "        print(\"Initialized Callback\")\n",
    "        if not os.path.exists(self.model_directory):\n",
    "            os.mkdir(self.model_directory)\n",
    "\n",
    "    def _on_step(self):\n",
    "        if self.n_calls % self.check_freq == 0:\n",
    "            self.model.save(self.model_directory + \"model_\" + str(self.n_calls))\n",
    "        return True\n",
    "\n",
    "def linear_schedule(initial_value: float) -> Callable[[float], float]:\n",
    "    \"\"\"\n",
    "    Linear learning rate schedule.\n",
    "\n",
    "    :param initial_value: Initial learning rate.\n",
    "    :return: schedule that computes\n",
    "      current learning rate depending on remaining progress\n",
    "    \"\"\"\n",
    "    def func(progress_remaining: float) -> float:\n",
    "        \"\"\"\n",
    "        Progress will decrease from 1 (beginning) to 0.\n",
    "\n",
    "        :param progress_remaining:\n",
    "        :return: current learning rate\n",
    "        \"\"\"\n",
    "        return progress_remaining * initial_value\n",
    "\n",
    "    return func"
   ]
  },
  {
   "cell_type": "code",
   "execution_count": 31,
   "id": "d68608b1-0435-47fe-85ca-9be64d75e781",
   "metadata": {},
   "outputs": [],
   "source": [
    "# Create the environment, this needs to be re-run if you call env.close()\n",
    "env = gym_super_mario_bros.make('SuperMarioBros-1-1-v3')\n",
    "env = JoypadSpace(env, SIMPLE_MOVEMENT)\n",
    "x0 = 0\n",
    "x1 = 16\n",
    "y0 = 0\n",
    "y1 = 13\n",
    "n_stack = 4\n",
    "n_skip = 4\n",
    "env_wrap = SMBRamWrapper(env, [x0, x1, y0, y1], n_stack=n_stack, n_skip=n_skip)\n",
    "env_wrap = Monitor(env_wrap)\n",
    "env_wrap = DummyVecEnv([lambda: env_wrap])\n"
   ]
  },
  {
   "cell_type": "code",
   "execution_count": 5,
   "id": "444688c3-0c6b-4aa7-82a6-2287674185c5",
   "metadata": {},
   "outputs": [
    {
     "name": "stderr",
     "output_type": "stream",
     "text": [
      "c:\\Users\\lucam\\miniconda3\\envs\\yumouwei\\lib\\site-packages\\gym_super_mario_bros\\smb_env.py:148: RuntimeWarning: overflow encountered in scalar subtract\n",
      "  return (self.ram[0x86] - self.ram[0x071c]) % 256\n"
     ]
    }
   ],
   "source": [
    "# Training models on different hyperparameters\n",
    "batch_sizes = [16,32,64]\n",
    "n_epochs = [8,10,12]\n",
    "gammas = [0.8,0.9,0.99]\n",
    "\n",
    "models = []\n",
    "evals = []\n",
    "for batch_size in batch_sizes:\n",
    "    for n_epoch in n_epochs:\n",
    "        for gamma in gammas:\n",
    "            model = PPO('MlpPolicy', env_wrap, verbose=0, learning_rate=linear_schedule(3e-4), batch_size=batch_size,n_epochs=n_epoch,gamma=gamma) \n",
    "            model.learn(total_timesteps=1e3)\n",
    "            eval = evaluate_policy(model, env_wrap, n_eval_episodes=1, deterministic=True, render=False, return_episode_rewards=False)\n",
    "            models.append(model)\n",
    "            evals.append(eval)\n",
    "            model.save(\"models/PPO_b\"+str(batch_size)+\"_ne\"+str(n_epoch)+\"_g\"+str(gamma))\n"
   ]
  },
  {
   "cell_type": "markdown",
   "id": "88a93131-b56a-46b9-9917-7d5cafa80759",
   "metadata": {},
   "source": [
    "### Results of hyperparameter selection\n",
    "As is evident, the groups are largely split into >200 or <350 in terms of average reward per life. Inspection of the replays indicates that this is due to either dying to the first enemy, or jumping over and moving forward. We will select the model with the highest performance and move on to more rigorous training."
   ]
  },
  {
   "cell_type": "code",
   "execution_count": 6,
   "id": "464da083-0e9e-48a8-93a8-d5bef82c1c06",
   "metadata": {},
   "outputs": [
    {
     "data": {
      "image/png": "[encoded data removed]",
      "text/plain": [
       "<Figure size 640x480 with 1 Axes>"
      ]
     },
     "metadata": {},
     "output_type": "display_data"
    }
   ],
   "source": [
    "# Average rewards of all the trained models\n",
    "plt.figure()\n",
    "evals = np.array(evals)\n",
    "evals = evals[:,0]\n",
    "plt.bar([i for i in range(len(evals))],evals)\n",
    "plt.show()"
   ]
  },
  {
   "cell_type": "code",
   "execution_count": 32,
   "id": "c8fa042a-75ee-462c-84b8-eb54889092fe",
   "metadata": {},
   "outputs": [
    {
     "name": "stdout",
     "output_type": "stream",
     "text": [
      "Best performance:  232.0\n",
      "Best Batch Size:  16\n",
      "Best Number of Epochs:  12\n",
      "Best Gamma:  0.8\n"
     ]
    }
   ],
   "source": [
    "# Get the combination of the best hyperparameters\n",
    "best_model_index = np.argmax(evals)\n",
    "best_model = models[best_model_index]\n",
    "best_batch_size = best_model.batch_size\n",
    "best_num_epochs = best_model.n_epochs\n",
    "best_gamma = best_model.gamma\n",
    "print(\"Best performance: \", max(evals))\n",
    "print(\"Best Batch Size: \",best_batch_size)\n",
    "print(\"Best Number of Epochs: \",best_num_epochs)\n",
    "print(\"Best Gamma: \", best_gamma)"
   ]
  },
  {
   "cell_type": "markdown",
   "id": "6be8a1c2-d7fc-4ed1-8957-37a68a3fafb0",
   "metadata": {},
   "source": [
    "From the last line we have determined that the optimal batch_size is 16, n_epochs is 12, and gamma is 0.8"
   ]
  },
  {
   "cell_type": "code",
   "execution_count": 33,
   "id": "664606eb-a2cf-4365-adec-a9d4ac52b250",
   "metadata": {},
   "outputs": [
    {
     "name": "stdout",
     "output_type": "stream",
     "text": [
      "Initialized Callback\n"
     ]
    },
    {
     "ename": "KeyboardInterrupt",
     "evalue": "",
     "output_type": "error",
     "traceback": [
      "\u001b[1;31m---------------------------------------------------------------------------\u001b[0m",
      "\u001b[1;31mKeyboardInterrupt\u001b[0m                         Traceback (most recent call last)",
      "Cell \u001b[1;32mIn[33], line 5\u001b[0m\n\u001b[0;32m      3\u001b[0m model \u001b[38;5;241m=\u001b[39m PPO(\u001b[38;5;124m'\u001b[39m\u001b[38;5;124mMlpPolicy\u001b[39m\u001b[38;5;124m'\u001b[39m, env_wrap, verbose\u001b[38;5;241m=\u001b[39m\u001b[38;5;241m0\u001b[39m, learning_rate\u001b[38;5;241m=\u001b[39mlinear_schedule(\u001b[38;5;241m3e-4\u001b[39m), batch_size\u001b[38;5;241m=\u001b[39mbest_batch_size,n_epochs\u001b[38;5;241m=\u001b[39mbest_num_epochs,gamma\u001b[38;5;241m=\u001b[39mbest_gamma) \n\u001b[0;32m      4\u001b[0m callback \u001b[38;5;241m=\u001b[39m SaveCallback(check_freq\u001b[38;5;241m=\u001b[39m\u001b[38;5;241m1e4\u001b[39m, starting_steps\u001b[38;5;241m=\u001b[39m\u001b[38;5;241m0\u001b[39m, env_wrap \u001b[38;5;241m=\u001b[39m env_wrap)\n\u001b[1;32m----> 5\u001b[0m \u001b[43mmodel\u001b[49m\u001b[38;5;241;43m.\u001b[39;49m\u001b[43mlearn\u001b[49m\u001b[43m(\u001b[49m\u001b[43mtotal_timesteps\u001b[49m\u001b[38;5;241;43m=\u001b[39;49m\u001b[38;5;241;43m1e6\u001b[39;49m\u001b[43m,\u001b[49m\u001b[43m \u001b[49m\u001b[43mcallback\u001b[49m\u001b[43m \u001b[49m\u001b[38;5;241;43m=\u001b[39;49m\u001b[43m \u001b[49m\u001b[43mcallback\u001b[49m\u001b[43m)\u001b[49m\n\u001b[0;32m      6\u001b[0m \u001b[38;5;28meval\u001b[39m \u001b[38;5;241m=\u001b[39m evaluate_policy(model, env_wrap, n_eval_episodes\u001b[38;5;241m=\u001b[39m\u001b[38;5;241m1\u001b[39m, deterministic\u001b[38;5;241m=\u001b[39m\u001b[38;5;28;01mTrue\u001b[39;00m, render\u001b[38;5;241m=\u001b[39m\u001b[38;5;28;01mFalse\u001b[39;00m, return_episode_rewards\u001b[38;5;241m=\u001b[39m\u001b[38;5;28;01mFalse\u001b[39;00m)\n\u001b[0;32m      7\u001b[0m \u001b[38;5;28mprint\u001b[39m(\u001b[38;5;124m\"\u001b[39m\u001b[38;5;124mPerformance: \u001b[39m\u001b[38;5;124m\"\u001b[39m, \u001b[38;5;28meval\u001b[39m)\n",
      "File \u001b[1;32mc:\\Users\\lucam\\miniconda3\\envs\\yumouwei\\lib\\site-packages\\stable_baselines3\\ppo\\ppo.py:304\u001b[0m, in \u001b[0;36mPPO.learn\u001b[1;34m(self, total_timesteps, callback, log_interval, eval_env, eval_freq, n_eval_episodes, tb_log_name, eval_log_path, reset_num_timesteps)\u001b[0m\n\u001b[0;32m    291\u001b[0m \u001b[38;5;28;01mdef\u001b[39;00m \u001b[38;5;21mlearn\u001b[39m(\n\u001b[0;32m    292\u001b[0m     \u001b[38;5;28mself\u001b[39m,\n\u001b[0;32m    293\u001b[0m     total_timesteps: \u001b[38;5;28mint\u001b[39m,\n\u001b[1;32m   (...)\u001b[0m\n\u001b[0;32m    301\u001b[0m     reset_num_timesteps: \u001b[38;5;28mbool\u001b[39m \u001b[38;5;241m=\u001b[39m \u001b[38;5;28;01mTrue\u001b[39;00m,\n\u001b[0;32m    302\u001b[0m ) \u001b[38;5;241m-\u001b[39m\u001b[38;5;241m>\u001b[39m \u001b[38;5;124m\"\u001b[39m\u001b[38;5;124mPPO\u001b[39m\u001b[38;5;124m\"\u001b[39m:\n\u001b[1;32m--> 304\u001b[0m     \u001b[38;5;28;01mreturn\u001b[39;00m \u001b[38;5;28;43msuper\u001b[39;49m\u001b[43m(\u001b[49m\u001b[43mPPO\u001b[49m\u001b[43m,\u001b[49m\u001b[43m \u001b[49m\u001b[38;5;28;43mself\u001b[39;49m\u001b[43m)\u001b[49m\u001b[38;5;241;43m.\u001b[39;49m\u001b[43mlearn\u001b[49m\u001b[43m(\u001b[49m\n\u001b[0;32m    305\u001b[0m \u001b[43m        \u001b[49m\u001b[43mtotal_timesteps\u001b[49m\u001b[38;5;241;43m=\u001b[39;49m\u001b[43mtotal_timesteps\u001b[49m\u001b[43m,\u001b[49m\n\u001b[0;32m    306\u001b[0m \u001b[43m        \u001b[49m\u001b[43mcallback\u001b[49m\u001b[38;5;241;43m=\u001b[39;49m\u001b[43mcallback\u001b[49m\u001b[43m,\u001b[49m\n\u001b[0;32m    307\u001b[0m \u001b[43m        \u001b[49m\u001b[43mlog_interval\u001b[49m\u001b[38;5;241;43m=\u001b[39;49m\u001b[43mlog_interval\u001b[49m\u001b[43m,\u001b[49m\n\u001b[0;32m    308\u001b[0m \u001b[43m        \u001b[49m\u001b[43meval_env\u001b[49m\u001b[38;5;241;43m=\u001b[39;49m\u001b[43meval_env\u001b[49m\u001b[43m,\u001b[49m\n\u001b[0;32m    309\u001b[0m \u001b[43m        \u001b[49m\u001b[43meval_freq\u001b[49m\u001b[38;5;241;43m=\u001b[39;49m\u001b[43meval_freq\u001b[49m\u001b[43m,\u001b[49m\n\u001b[0;32m    310\u001b[0m \u001b[43m        \u001b[49m\u001b[43mn_eval_episodes\u001b[49m\u001b[38;5;241;43m=\u001b[39;49m\u001b[43mn_eval_episodes\u001b[49m\u001b[43m,\u001b[49m\n\u001b[0;32m    311\u001b[0m \u001b[43m        \u001b[49m\u001b[43mtb_log_name\u001b[49m\u001b[38;5;241;43m=\u001b[39;49m\u001b[43mtb_log_name\u001b[49m\u001b[43m,\u001b[49m\n\u001b[0;32m    312\u001b[0m \u001b[43m        \u001b[49m\u001b[43meval_log_path\u001b[49m\u001b[38;5;241;43m=\u001b[39;49m\u001b[43meval_log_path\u001b[49m\u001b[43m,\u001b[49m\n\u001b[0;32m    313\u001b[0m \u001b[43m        \u001b[49m\u001b[43mreset_num_timesteps\u001b[49m\u001b[38;5;241;43m=\u001b[39;49m\u001b[43mreset_num_timesteps\u001b[49m\u001b[43m,\u001b[49m\n\u001b[0;32m    314\u001b[0m \u001b[43m    \u001b[49m\u001b[43m)\u001b[49m\n",
      "File \u001b[1;32mc:\\Users\\lucam\\miniconda3\\envs\\yumouwei\\lib\\site-packages\\stable_baselines3\\common\\on_policy_algorithm.py:270\u001b[0m, in \u001b[0;36mOnPolicyAlgorithm.learn\u001b[1;34m(self, total_timesteps, callback, log_interval, eval_env, eval_freq, n_eval_episodes, tb_log_name, eval_log_path, reset_num_timesteps)\u001b[0m\n\u001b[0;32m    267\u001b[0m         \u001b[38;5;28mself\u001b[39m\u001b[38;5;241m.\u001b[39mlogger\u001b[38;5;241m.\u001b[39mrecord(\u001b[38;5;124m\"\u001b[39m\u001b[38;5;124mtime/total_timesteps\u001b[39m\u001b[38;5;124m\"\u001b[39m, \u001b[38;5;28mself\u001b[39m\u001b[38;5;241m.\u001b[39mnum_timesteps, exclude\u001b[38;5;241m=\u001b[39m\u001b[38;5;124m\"\u001b[39m\u001b[38;5;124mtensorboard\u001b[39m\u001b[38;5;124m\"\u001b[39m)\n\u001b[0;32m    268\u001b[0m         \u001b[38;5;28mself\u001b[39m\u001b[38;5;241m.\u001b[39mlogger\u001b[38;5;241m.\u001b[39mdump(step\u001b[38;5;241m=\u001b[39m\u001b[38;5;28mself\u001b[39m\u001b[38;5;241m.\u001b[39mnum_timesteps)\n\u001b[1;32m--> 270\u001b[0m     \u001b[38;5;28;43mself\u001b[39;49m\u001b[38;5;241;43m.\u001b[39;49m\u001b[43mtrain\u001b[49m\u001b[43m(\u001b[49m\u001b[43m)\u001b[49m\n\u001b[0;32m    272\u001b[0m callback\u001b[38;5;241m.\u001b[39mon_training_end()\n\u001b[0;32m    274\u001b[0m \u001b[38;5;28;01mreturn\u001b[39;00m \u001b[38;5;28mself\u001b[39m\n",
      "File \u001b[1;32mc:\\Users\\lucam\\miniconda3\\envs\\yumouwei\\lib\\site-packages\\stable_baselines3\\ppo\\ppo.py:266\u001b[0m, in \u001b[0;36mPPO.train\u001b[1;34m(self)\u001b[0m\n\u001b[0;32m    264\u001b[0m     loss\u001b[38;5;241m.\u001b[39mbackward()\n\u001b[0;32m    265\u001b[0m     \u001b[38;5;66;03m# Clip grad norm\u001b[39;00m\n\u001b[1;32m--> 266\u001b[0m     \u001b[43mth\u001b[49m\u001b[38;5;241;43m.\u001b[39;49m\u001b[43mnn\u001b[49m\u001b[38;5;241;43m.\u001b[39;49m\u001b[43mutils\u001b[49m\u001b[38;5;241;43m.\u001b[39;49m\u001b[43mclip_grad_norm_\u001b[49m\u001b[43m(\u001b[49m\u001b[38;5;28;43mself\u001b[39;49m\u001b[38;5;241;43m.\u001b[39;49m\u001b[43mpolicy\u001b[49m\u001b[38;5;241;43m.\u001b[39;49m\u001b[43mparameters\u001b[49m\u001b[43m(\u001b[49m\u001b[43m)\u001b[49m\u001b[43m,\u001b[49m\u001b[43m \u001b[49m\u001b[38;5;28;43mself\u001b[39;49m\u001b[38;5;241;43m.\u001b[39;49m\u001b[43mmax_grad_norm\u001b[49m\u001b[43m)\u001b[49m\n\u001b[0;32m    267\u001b[0m     \u001b[38;5;28mself\u001b[39m\u001b[38;5;241m.\u001b[39mpolicy\u001b[38;5;241m.\u001b[39moptimizer\u001b[38;5;241m.\u001b[39mstep()\n\u001b[0;32m    269\u001b[0m \u001b[38;5;28;01mif\u001b[39;00m \u001b[38;5;129;01mnot\u001b[39;00m continue_training:\n",
      "File \u001b[1;32mc:\\Users\\lucam\\miniconda3\\envs\\yumouwei\\lib\\site-packages\\torch\\nn\\utils\\clip_grad.py:69\u001b[0m, in \u001b[0;36mclip_grad_norm_\u001b[1;34m(parameters, max_norm, norm_type, error_if_nonfinite, foreach)\u001b[0m\n\u001b[0;32m     63\u001b[0m \u001b[38;5;28;01mif\u001b[39;00m error_if_nonfinite \u001b[38;5;129;01mand\u001b[39;00m torch\u001b[38;5;241m.\u001b[39mlogical_or(total_norm\u001b[38;5;241m.\u001b[39misnan(), total_norm\u001b[38;5;241m.\u001b[39misinf()):\n\u001b[0;32m     64\u001b[0m     \u001b[38;5;28;01mraise\u001b[39;00m \u001b[38;5;167;01mRuntimeError\u001b[39;00m(\n\u001b[0;32m     65\u001b[0m         \u001b[38;5;124mf\u001b[39m\u001b[38;5;124m'\u001b[39m\u001b[38;5;124mThe total norm of order \u001b[39m\u001b[38;5;132;01m{\u001b[39;00mnorm_type\u001b[38;5;132;01m}\u001b[39;00m\u001b[38;5;124m for gradients from \u001b[39m\u001b[38;5;124m'\u001b[39m\n\u001b[0;32m     66\u001b[0m         \u001b[38;5;124m'\u001b[39m\u001b[38;5;124m`parameters` is non-finite, so it cannot be clipped. To disable \u001b[39m\u001b[38;5;124m'\u001b[39m\n\u001b[0;32m     67\u001b[0m         \u001b[38;5;124m'\u001b[39m\u001b[38;5;124mthis error and scale the gradients by the non-finite norm anyway, \u001b[39m\u001b[38;5;124m'\u001b[39m\n\u001b[0;32m     68\u001b[0m         \u001b[38;5;124m'\u001b[39m\u001b[38;5;124mset `error_if_nonfinite=False`\u001b[39m\u001b[38;5;124m'\u001b[39m)\n\u001b[1;32m---> 69\u001b[0m clip_coef \u001b[38;5;241m=\u001b[39m max_norm \u001b[38;5;241m/\u001b[39m (\u001b[43mtotal_norm\u001b[49m\u001b[43m \u001b[49m\u001b[38;5;241;43m+\u001b[39;49m\u001b[43m \u001b[49m\u001b[38;5;241;43m1e-6\u001b[39;49m)\n\u001b[0;32m     70\u001b[0m \u001b[38;5;66;03m# Note: multiplying by the clamped coef is redundant when the coef is clamped to 1, but doing so\u001b[39;00m\n\u001b[0;32m     71\u001b[0m \u001b[38;5;66;03m# avoids a `if clip_coef < 1:` conditional which can require a CPU <=> device synchronization\u001b[39;00m\n\u001b[0;32m     72\u001b[0m \u001b[38;5;66;03m# when the gradients do not reside in CPU memory.\u001b[39;00m\n\u001b[0;32m     73\u001b[0m clip_coef_clamped \u001b[38;5;241m=\u001b[39m torch\u001b[38;5;241m.\u001b[39mclamp(clip_coef, \u001b[38;5;28mmax\u001b[39m\u001b[38;5;241m=\u001b[39m\u001b[38;5;241m1.0\u001b[39m)\n",
      "\u001b[1;31mKeyboardInterrupt\u001b[0m: "
     ]
    }
   ],
   "source": [
    "# Create an optimal model and train it for a significant amount of time\n",
    "best_batch_size = 16\n",
    "best_num_epochs = 12\n",
    "best_gamma = 0.8\n",
    "\n",
    "\n",
    "del model\n",
    "model = PPO('MlpPolicy', env_wrap, verbose=0, learning_rate=linear_schedule(3e-4), batch_size=best_batch_size,n_epochs=best_num_epochs,gamma=best_gamma) \n",
    "callback = SaveCallback(check_freq=1e4, starting_steps=0, env_wrap = env_wrap)\n",
    "model.learn(total_timesteps=1e6, callback = callback)\n",
    "eval = evaluate_policy(model, env_wrap, n_eval_episodes=1, deterministic=True, render=False, return_episode_rewards=False)\n",
    "print(\"Performance: \", eval)\n",
    "model.save(\"best_model1e6\")"
   ]
  },
  {
   "cell_type": "code",
   "execution_count": 34,
   "id": "1ac0a6d8-166d-4db4-8e97-b728708e3f8f",
   "metadata": {},
   "outputs": [
    {
     "data": {
      "image/png": "[encoded data removed]",
      "text/plain": [
       "<Figure size 640x480 with 1 Axes>"
      ]
     },
     "metadata": {},
     "output_type": "display_data"
    }
   ],
   "source": [
    "#performance\n",
    "files = os.listdir(\"./\")\n",
    "checkpoints = [f for f in files if \"model_\" in f]\n",
    "evals = []\n",
    "for checkpoint in checkpoints:\n",
    "    mod = PPO('MlpPolicy', env_wrap, verbose=0, learning_rate=linear_schedule(3e-4), batch_size=best_batch_size,n_epochs=best_num_epochs,gamma=best_gamma)\n",
    "    mod.load(\"models/\" + checkpoint)\n",
    "    eval = evaluate_policy(mod, env_wrap, n_eval_episodes=1, deterministic=True, render=False, return_episode_rewards=False)\n",
    "    evals.append(eval[0])\n",
    "    \n",
    "plt.figure()\n",
    "plt.plot(evals)\n",
    "plt.xlabel(\"Timesteps/10000\")\n",
    "plt.ylabel(\"Reward\")\n",
    "plt.show()"
   ]
  },
  {
   "cell_type": "markdown",
   "id": "92b4a704-92d3-4a6b-96c9-60d9ce30b300",
   "metadata": {},
   "source": [
    "### Seeing our best performance\n",
    "Here we will run a simulation using the PPO agent to see what it has learned. A disclaimer, once the simulation is run the environemnt will close, necessitating a new one to be loaded if further notebook use is desired."
   ]
  },
  {
   "cell_type": "code",
   "execution_count": null,
   "id": "daca74b7-9c9f-4bb2-9884-3cd11479182b",
   "metadata": {},
   "outputs": [],
   "source": [
    "#Play the recording of our best trained model\n",
    "if model:\n",
    "    del model\n",
    "model = PPO('MlpPolicy', env_wrap, verbose=0, learning_rate=linear_schedule(3e-4), batch_size=best_batch_size,n_epochs=best_num_epochs,gamma=best_gamma) \n",
    "model.load(\"best_model1e6\")\n",
    "states = env_wrap.reset()\n",
    "done = False\n",
    "score = 0\n",
    "max_steps = 1e4\n",
    "while not done and max_steps > 0:\n",
    "    max_steps -=1\n",
    "    env_wrap.render()\n",
    "    action, _ = mod.predict(states, deterministic=True)\n",
    "    states, reward, done, info = env_wrap.step(action)\n",
    "    score += reward\n",
    "    time.sleep(0.01)\n",
    "print('Score: ', score)\n",
    "env.close()"
   ]
  },
  {
   "cell_type": "markdown",
   "id": "32ecbb4f-7257-45c7-8aff-11d870b4ba00",
   "metadata": {},
   "source": [
    "### Conclusion\n",
    "All in all our experience demonstrates the difficulties of learning to play a game using classical machine learning approaches. We also demonstrate the power of new Reinforcement Learning approaches in exporing the state space and finding a performant policy. We also attemped oher approaches such as Behavioral Cloning, Adversarial Inverse Reinforcement Learning, and Generative Adversarial Imitation Learning, however the stable baselines implementations were not compatible with the gym verisons we are using. Further work should include integrating these other state of the art approaches into our work."
   ]
  }
 ],
 "metadata": {
  "kernelspec": {
   "display_name": "Python 3 (ipykernel)",
   "language": "python",
   "name": "python3"
  },
  "language_info": {
   "codemirror_mode": {
    "name": "ipython",
    "version": 3
   },
   "file_extension": ".py",
   "mimetype": "text/x-python",
   "name": "python",
   "nbconvert_exporter": "python",
   "pygments_lexer": "ipython3",
   "version": "3.8.19"
  }
 },
 "nbformat": 4,
 "nbformat_minor": 5
}
